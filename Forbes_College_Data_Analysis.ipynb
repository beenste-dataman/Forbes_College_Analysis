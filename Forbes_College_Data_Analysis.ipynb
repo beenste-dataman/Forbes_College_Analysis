{
  "nbformat": 4,
  "nbformat_minor": 0,
  "metadata": {
    "colab": {
      "name": "Forbes_College_Data_Analysis.ipynb",
      "provenance": [],
      "collapsed_sections": [],
      "toc_visible": true
    },
    "kernelspec": {
      "name": "python3",
      "display_name": "Python 3"
    }
  },
  "cells": [
    {
      "cell_type": "markdown",
      "metadata": {
        "id": "cUWeu-GYW3t3"
      },
      "source": [
        "# **America’s Top College Rankings (Forbes,2019)**\n",
        "\n",
        "\n",
        "https://www.kaggle.com/chris95cam/forbes-americas-top-colleges-2019?select=ForbesAmericasTopColleges2019.csv\n",
        "\n",
        "https://drive.google.com/file/d/1-zJIFo0aRvMWX9ygs8LownXnEkh5eh2X/view?usp=sharing (Direct link to CSV)\n",
        "\n",
        "\n",
        "I will be using an open source dataset, compiled by Forbes, which analyzes the rankings of the top 650 colleges in the United States. This dataset provides a broad and accurate view of multiple data points that give a clear view of the quality of education provided by these colleges. Locations, rankings, grant funds used, student/alumni populations, and tuition costs are provided in this dataset. \n",
        "My goal is to use these rankings to provide insight to the overall value provided by institutions of the analyzed category (for each hypothesis). A specific focus on public versus private institutions will be maintained. Multiple correlations between data points will be examined to make these observations. The referenced value will be examined with the students and their family as the audience. Students and their families are the ‘clients’ of a college, and I would like to provide insights that can be referenced by the schools, of the referenced category, to attract those clients. This data is intended to be used to attract future students to the value provided by institutions of a certain category. This data is intended to be categorical and not institution specific. \n"
      ]
    },
    {
      "cell_type": "markdown",
      "metadata": {
        "id": "GFtQHYNlc6Ok"
      },
      "source": [
        "**Now we will import the needed libraries**"
      ]
    },
    {
      "cell_type": "code",
      "metadata": {
        "id": "zXmgTF4ekG4y",
        "colab": {
          "base_uri": "https://localhost:8080/",
          "height": 34
        },
        "outputId": "0c9d639a-bee7-4d57-c219-d906efa2458b"
      },
      "source": [
        "from google.colab import drive #mounting drive \n",
        "drive.mount('/content/gdrive')"
      ],
      "execution_count": null,
      "outputs": [
        {
          "output_type": "stream",
          "text": [
            "Mounted at /content/gdrive\n"
          ],
          "name": "stdout"
        }
      ]
    },
    {
      "cell_type": "code",
      "metadata": {
        "id": "JNpC9JO9lurQ"
      },
      "source": [
        "# Import pandas , scipy, and math\n",
        "\n",
        "import pandas as pd\n",
        "from scipy import stats\n",
        "import math"
      ],
      "execution_count": null,
      "outputs": []
    },
    {
      "cell_type": "code",
      "metadata": {
        "id": "KYaewnwd0ayg",
        "colab": {
          "base_uri": "https://localhost:8080/",
          "height": 72
        },
        "outputId": "c0a29861-7a10-42c6-f9b3-4c3e11e60c1a"
      },
      "source": [
        "\n",
        "import seaborn as sns #importing seaborn for visualizations  \n",
        "sns.set()\n",
        "\n",
        "# suppress warnings (warnings do not prevent the code from executing)\n",
        "import warnings\n",
        "warnings.filterwarnings(\"ignore\")"
      ],
      "execution_count": null,
      "outputs": [
        {
          "output_type": "stream",
          "text": [
            "/usr/local/lib/python3.6/dist-packages/statsmodels/tools/_testing.py:19: FutureWarning: pandas.util.testing is deprecated. Use the functions in the public API at pandas.testing instead.\n",
            "  import pandas.util.testing as tm\n"
          ],
          "name": "stderr"
        }
      ]
    },
    {
      "cell_type": "markdown",
      "metadata": {
        "id": "EtZfcB3LdPeh"
      },
      "source": [
        "**Now we will read and test the mount of the CSV . We will also fill null values as well as begin some generic analysis.**  "
      ]
    },
    {
      "cell_type": "code",
      "metadata": {
        "id": "C7S7m3Uolu95",
        "colab": {
          "base_uri": "https://localhost:8080/",
          "height": 351
        },
        "outputId": "f8124cb7-1362-4814-e9fe-a991eb5d95f5"
      },
      "source": [
        "df = pd.read_csv('/content/gdrive/My Drive/Colab Datasets/ForbesAmericasTopColleges2019.csv')\n",
        "df.head() # testing successful mount"
      ],
      "execution_count": null,
      "outputs": [
        {
          "output_type": "execute_result",
          "data": {
            "text/html": [
              "<div>\n",
              "<style scoped>\n",
              "    .dataframe tbody tr th:only-of-type {\n",
              "        vertical-align: middle;\n",
              "    }\n",
              "\n",
              "    .dataframe tbody tr th {\n",
              "        vertical-align: top;\n",
              "    }\n",
              "\n",
              "    .dataframe thead th {\n",
              "        text-align: right;\n",
              "    }\n",
              "</style>\n",
              "<table border=\"1\" class=\"dataframe\">\n",
              "  <thead>\n",
              "    <tr style=\"text-align: right;\">\n",
              "      <th></th>\n",
              "      <th>Rank</th>\n",
              "      <th>Name</th>\n",
              "      <th>City</th>\n",
              "      <th>State</th>\n",
              "      <th>Public/Private</th>\n",
              "      <th>Undergraduate Population</th>\n",
              "      <th>Student Population</th>\n",
              "      <th>Net Price</th>\n",
              "      <th>Average Grant Aid</th>\n",
              "      <th>Total Annual Cost</th>\n",
              "      <th>Alumni Salary</th>\n",
              "      <th>Acceptance Rate</th>\n",
              "      <th>SAT Lower</th>\n",
              "      <th>SAT Upper</th>\n",
              "      <th>ACT Lower</th>\n",
              "      <th>ACT Upper</th>\n",
              "      <th>Website</th>\n",
              "    </tr>\n",
              "  </thead>\n",
              "  <tbody>\n",
              "    <tr>\n",
              "      <th>0</th>\n",
              "      <td>1.0</td>\n",
              "      <td>Harvard University</td>\n",
              "      <td>Cambridge</td>\n",
              "      <td>MA</td>\n",
              "      <td>Private</td>\n",
              "      <td>13844.0</td>\n",
              "      <td>31120.0</td>\n",
              "      <td>14327.0</td>\n",
              "      <td>49870.0</td>\n",
              "      <td>69600.0</td>\n",
              "      <td>146800.0</td>\n",
              "      <td>5.0</td>\n",
              "      <td>1460.0</td>\n",
              "      <td>1590.0</td>\n",
              "      <td>32.0</td>\n",
              "      <td>35.0</td>\n",
              "      <td>www.harvard.edu</td>\n",
              "    </tr>\n",
              "    <tr>\n",
              "      <th>1</th>\n",
              "      <td>2.0</td>\n",
              "      <td>Stanford University</td>\n",
              "      <td>Stanford</td>\n",
              "      <td>CA</td>\n",
              "      <td>Private</td>\n",
              "      <td>8402.0</td>\n",
              "      <td>17534.0</td>\n",
              "      <td>13261.0</td>\n",
              "      <td>50134.0</td>\n",
              "      <td>69109.0</td>\n",
              "      <td>145200.0</td>\n",
              "      <td>5.0</td>\n",
              "      <td>1390.0</td>\n",
              "      <td>1540.0</td>\n",
              "      <td>32.0</td>\n",
              "      <td>35.0</td>\n",
              "      <td>www.stanford.edu</td>\n",
              "    </tr>\n",
              "    <tr>\n",
              "      <th>2</th>\n",
              "      <td>3.0</td>\n",
              "      <td>Yale University</td>\n",
              "      <td>New Haven</td>\n",
              "      <td>CT</td>\n",
              "      <td>Private</td>\n",
              "      <td>6483.0</td>\n",
              "      <td>12974.0</td>\n",
              "      <td>18627.0</td>\n",
              "      <td>50897.0</td>\n",
              "      <td>71290.0</td>\n",
              "      <td>138300.0</td>\n",
              "      <td>7.0</td>\n",
              "      <td>1460.0</td>\n",
              "      <td>1580.0</td>\n",
              "      <td>32.0</td>\n",
              "      <td>35.0</td>\n",
              "      <td>www.yale.edu</td>\n",
              "    </tr>\n",
              "    <tr>\n",
              "      <th>3</th>\n",
              "      <td>4.0</td>\n",
              "      <td>Massachusetts Institute of Technology</td>\n",
              "      <td>Cambridge</td>\n",
              "      <td>MA</td>\n",
              "      <td>Private</td>\n",
              "      <td>4680.0</td>\n",
              "      <td>11466.0</td>\n",
              "      <td>20771.0</td>\n",
              "      <td>43248.0</td>\n",
              "      <td>67430.0</td>\n",
              "      <td>155200.0</td>\n",
              "      <td>7.0</td>\n",
              "      <td>1490.0</td>\n",
              "      <td>1570.0</td>\n",
              "      <td>33.0</td>\n",
              "      <td>35.0</td>\n",
              "      <td>web.mit.edu</td>\n",
              "    </tr>\n",
              "    <tr>\n",
              "      <th>4</th>\n",
              "      <td>5.0</td>\n",
              "      <td>Princeton University</td>\n",
              "      <td>Princeton</td>\n",
              "      <td>NJ</td>\n",
              "      <td>Private</td>\n",
              "      <td>5659.0</td>\n",
              "      <td>8273.0</td>\n",
              "      <td>9327.0</td>\n",
              "      <td>48088.0</td>\n",
              "      <td>66150.0</td>\n",
              "      <td>139400.0</td>\n",
              "      <td>6.0</td>\n",
              "      <td>1430.0</td>\n",
              "      <td>1570.0</td>\n",
              "      <td>31.0</td>\n",
              "      <td>35.0</td>\n",
              "      <td>www.princeton.edu</td>\n",
              "    </tr>\n",
              "  </tbody>\n",
              "</table>\n",
              "</div>"
            ],
            "text/plain": [
              "   Rank                                   Name  ... ACT Upper            Website\n",
              "0   1.0                     Harvard University  ...      35.0    www.harvard.edu\n",
              "1   2.0                    Stanford University  ...      35.0   www.stanford.edu\n",
              "2   3.0                        Yale University  ...      35.0       www.yale.edu\n",
              "3   4.0  Massachusetts Institute of Technology  ...      35.0        web.mit.edu\n",
              "4   5.0                   Princeton University  ...      35.0  www.princeton.edu\n",
              "\n",
              "[5 rows x 17 columns]"
            ]
          },
          "metadata": {
            "tags": []
          },
          "execution_count": 4
        }
      ]
    },
    {
      "cell_type": "markdown",
      "metadata": {
        "id": "USdyhn36XT3S"
      },
      "source": [
        "This dataset has 650 rows and 17 columns"
      ]
    },
    {
      "cell_type": "code",
      "metadata": {
        "id": "3yAvO7bZrxsE",
        "colab": {
          "base_uri": "https://localhost:8080/",
          "height": 34
        },
        "outputId": "b78ea9ff-81c4-40cd-9e54-132a28aca188"
      },
      "source": [
        "df.shape #"
      ],
      "execution_count": null,
      "outputs": [
        {
          "output_type": "execute_result",
          "data": {
            "text/plain": [
              "(650, 17)"
            ]
          },
          "metadata": {
            "tags": []
          },
          "execution_count": 5
        }
      ]
    },
    {
      "cell_type": "markdown",
      "metadata": {
        "id": "M-4rBGnYgjkt"
      },
      "source": [
        "Now we will check the dataframe for nulls . "
      ]
    },
    {
      "cell_type": "code",
      "metadata": {
        "id": "MAdTf0bQrdv5",
        "colab": {
          "base_uri": "https://localhost:8080/",
          "height": 443
        },
        "outputId": "07df014a-27d8-4fd0-d466-b6961c2f3655"
      },
      "source": [
        "df.info() #Checking for nulls "
      ],
      "execution_count": null,
      "outputs": [
        {
          "output_type": "stream",
          "text": [
            "<class 'pandas.core.frame.DataFrame'>\n",
            "RangeIndex: 650 entries, 0 to 649\n",
            "Data columns (total 17 columns):\n",
            " #   Column                    Non-Null Count  Dtype  \n",
            "---  ------                    --------------  -----  \n",
            " 0   Rank                      650 non-null    float64\n",
            " 1   Name                      650 non-null    object \n",
            " 2   City                      647 non-null    object \n",
            " 3   State                     650 non-null    object \n",
            " 4   Public/Private            650 non-null    object \n",
            " 5   Undergraduate Population  650 non-null    float64\n",
            " 6   Student Population        650 non-null    float64\n",
            " 7   Net Price                 648 non-null    float64\n",
            " 8   Average Grant Aid         646 non-null    float64\n",
            " 9   Total Annual Cost         650 non-null    float64\n",
            " 10  Alumni Salary             635 non-null    float64\n",
            " 11  Acceptance Rate           648 non-null    float64\n",
            " 12  SAT Lower                 551 non-null    float64\n",
            " 13  SAT Upper                 551 non-null    float64\n",
            " 14  ACT Lower                 553 non-null    float64\n",
            " 15  ACT Upper                 553 non-null    float64\n",
            " 16  Website                   645 non-null    object \n",
            "dtypes: float64(12), object(5)\n",
            "memory usage: 86.5+ KB\n"
          ],
          "name": "stdout"
        }
      ]
    },
    {
      "cell_type": "markdown",
      "metadata": {
        "id": "joxfJ5W2gqpN"
      },
      "source": [
        "There are some significant nulls in the SAT and ACT columns, but we will not be using those in our analysis . Regardless, we will fill these nulls with an 'N/A'."
      ]
    },
    {
      "cell_type": "code",
      "metadata": {
        "id": "RQbtkcDAr0I3",
        "colab": {
          "base_uri": "https://localhost:8080/",
          "height": 626
        },
        "outputId": "6ae693f7-b926-4afb-e750-26493a70f037"
      },
      "source": [
        "df.fillna('N/A') # Filling with N/A , but the columns with significant numbers of nulls are not being used during analysis "
      ],
      "execution_count": null,
      "outputs": [
        {
          "output_type": "execute_result",
          "data": {
            "text/html": [
              "<div>\n",
              "<style scoped>\n",
              "    .dataframe tbody tr th:only-of-type {\n",
              "        vertical-align: middle;\n",
              "    }\n",
              "\n",
              "    .dataframe tbody tr th {\n",
              "        vertical-align: top;\n",
              "    }\n",
              "\n",
              "    .dataframe thead th {\n",
              "        text-align: right;\n",
              "    }\n",
              "</style>\n",
              "<table border=\"1\" class=\"dataframe\">\n",
              "  <thead>\n",
              "    <tr style=\"text-align: right;\">\n",
              "      <th></th>\n",
              "      <th>Rank</th>\n",
              "      <th>Name</th>\n",
              "      <th>City</th>\n",
              "      <th>State</th>\n",
              "      <th>Public/Private</th>\n",
              "      <th>Undergraduate Population</th>\n",
              "      <th>Student Population</th>\n",
              "      <th>Net Price</th>\n",
              "      <th>Average Grant Aid</th>\n",
              "      <th>Total Annual Cost</th>\n",
              "      <th>Alumni Salary</th>\n",
              "      <th>Acceptance Rate</th>\n",
              "      <th>SAT Lower</th>\n",
              "      <th>SAT Upper</th>\n",
              "      <th>ACT Lower</th>\n",
              "      <th>ACT Upper</th>\n",
              "      <th>Website</th>\n",
              "    </tr>\n",
              "  </thead>\n",
              "  <tbody>\n",
              "    <tr>\n",
              "      <th>0</th>\n",
              "      <td>1.0</td>\n",
              "      <td>Harvard University</td>\n",
              "      <td>Cambridge</td>\n",
              "      <td>MA</td>\n",
              "      <td>Private</td>\n",
              "      <td>13844.0</td>\n",
              "      <td>31120.0</td>\n",
              "      <td>14327</td>\n",
              "      <td>49870</td>\n",
              "      <td>69600.0</td>\n",
              "      <td>146800</td>\n",
              "      <td>5</td>\n",
              "      <td>1460</td>\n",
              "      <td>1590</td>\n",
              "      <td>32</td>\n",
              "      <td>35</td>\n",
              "      <td>www.harvard.edu</td>\n",
              "    </tr>\n",
              "    <tr>\n",
              "      <th>1</th>\n",
              "      <td>2.0</td>\n",
              "      <td>Stanford University</td>\n",
              "      <td>Stanford</td>\n",
              "      <td>CA</td>\n",
              "      <td>Private</td>\n",
              "      <td>8402.0</td>\n",
              "      <td>17534.0</td>\n",
              "      <td>13261</td>\n",
              "      <td>50134</td>\n",
              "      <td>69109.0</td>\n",
              "      <td>145200</td>\n",
              "      <td>5</td>\n",
              "      <td>1390</td>\n",
              "      <td>1540</td>\n",
              "      <td>32</td>\n",
              "      <td>35</td>\n",
              "      <td>www.stanford.edu</td>\n",
              "    </tr>\n",
              "    <tr>\n",
              "      <th>2</th>\n",
              "      <td>3.0</td>\n",
              "      <td>Yale University</td>\n",
              "      <td>New Haven</td>\n",
              "      <td>CT</td>\n",
              "      <td>Private</td>\n",
              "      <td>6483.0</td>\n",
              "      <td>12974.0</td>\n",
              "      <td>18627</td>\n",
              "      <td>50897</td>\n",
              "      <td>71290.0</td>\n",
              "      <td>138300</td>\n",
              "      <td>7</td>\n",
              "      <td>1460</td>\n",
              "      <td>1580</td>\n",
              "      <td>32</td>\n",
              "      <td>35</td>\n",
              "      <td>www.yale.edu</td>\n",
              "    </tr>\n",
              "    <tr>\n",
              "      <th>3</th>\n",
              "      <td>4.0</td>\n",
              "      <td>Massachusetts Institute of Technology</td>\n",
              "      <td>Cambridge</td>\n",
              "      <td>MA</td>\n",
              "      <td>Private</td>\n",
              "      <td>4680.0</td>\n",
              "      <td>11466.0</td>\n",
              "      <td>20771</td>\n",
              "      <td>43248</td>\n",
              "      <td>67430.0</td>\n",
              "      <td>155200</td>\n",
              "      <td>7</td>\n",
              "      <td>1490</td>\n",
              "      <td>1570</td>\n",
              "      <td>33</td>\n",
              "      <td>35</td>\n",
              "      <td>web.mit.edu</td>\n",
              "    </tr>\n",
              "    <tr>\n",
              "      <th>4</th>\n",
              "      <td>5.0</td>\n",
              "      <td>Princeton University</td>\n",
              "      <td>Princeton</td>\n",
              "      <td>NJ</td>\n",
              "      <td>Private</td>\n",
              "      <td>5659.0</td>\n",
              "      <td>8273.0</td>\n",
              "      <td>9327</td>\n",
              "      <td>48088</td>\n",
              "      <td>66150.0</td>\n",
              "      <td>139400</td>\n",
              "      <td>6</td>\n",
              "      <td>1430</td>\n",
              "      <td>1570</td>\n",
              "      <td>31</td>\n",
              "      <td>35</td>\n",
              "      <td>www.princeton.edu</td>\n",
              "    </tr>\n",
              "    <tr>\n",
              "      <th>...</th>\n",
              "      <td>...</td>\n",
              "      <td>...</td>\n",
              "      <td>...</td>\n",
              "      <td>...</td>\n",
              "      <td>...</td>\n",
              "      <td>...</td>\n",
              "      <td>...</td>\n",
              "      <td>...</td>\n",
              "      <td>...</td>\n",
              "      <td>...</td>\n",
              "      <td>...</td>\n",
              "      <td>...</td>\n",
              "      <td>...</td>\n",
              "      <td>...</td>\n",
              "      <td>...</td>\n",
              "      <td>...</td>\n",
              "      <td>...</td>\n",
              "    </tr>\n",
              "    <tr>\n",
              "      <th>645</th>\n",
              "      <td>646.0</td>\n",
              "      <td>New Mexico State University</td>\n",
              "      <td>Las Cruces</td>\n",
              "      <td>NM</td>\n",
              "      <td>Public</td>\n",
              "      <td>13379.0</td>\n",
              "      <td>14432.0</td>\n",
              "      <td>8625</td>\n",
              "      <td>9582</td>\n",
              "      <td>34720.0</td>\n",
              "      <td>96700</td>\n",
              "      <td>64</td>\n",
              "      <td>910</td>\n",
              "      <td>1160</td>\n",
              "      <td>18</td>\n",
              "      <td>23</td>\n",
              "      <td>www.nmsu.edu</td>\n",
              "    </tr>\n",
              "    <tr>\n",
              "      <th>646</th>\n",
              "      <td>647.0</td>\n",
              "      <td>Indiana State University</td>\n",
              "      <td>Terre Haute</td>\n",
              "      <td>IN</td>\n",
              "      <td>Public</td>\n",
              "      <td>13626.0</td>\n",
              "      <td>13763.0</td>\n",
              "      <td>13012</td>\n",
              "      <td>9297</td>\n",
              "      <td>32938.0</td>\n",
              "      <td>85600</td>\n",
              "      <td>85</td>\n",
              "      <td>900</td>\n",
              "      <td>1110</td>\n",
              "      <td>17</td>\n",
              "      <td>23</td>\n",
              "      <td>www.indstate.edu</td>\n",
              "    </tr>\n",
              "    <tr>\n",
              "      <th>647</th>\n",
              "      <td>648.0</td>\n",
              "      <td>Emory &amp;amp; Henry College</td>\n",
              "      <td>Emory</td>\n",
              "      <td>VA</td>\n",
              "      <td>Private</td>\n",
              "      <td>1094.0</td>\n",
              "      <td>1226.0</td>\n",
              "      <td>19340</td>\n",
              "      <td>27155</td>\n",
              "      <td>48100.0</td>\n",
              "      <td>70700</td>\n",
              "      <td>72</td>\n",
              "      <td>988</td>\n",
              "      <td>1170</td>\n",
              "      <td>19</td>\n",
              "      <td>25</td>\n",
              "      <td>www.ehc.edu</td>\n",
              "    </tr>\n",
              "    <tr>\n",
              "      <th>648</th>\n",
              "      <td>649.0</td>\n",
              "      <td>Wells College</td>\n",
              "      <td>Aurora</td>\n",
              "      <td>NY</td>\n",
              "      <td>Private</td>\n",
              "      <td>488.0</td>\n",
              "      <td>516.0</td>\n",
              "      <td>22828</td>\n",
              "      <td>30207</td>\n",
              "      <td>55180.0</td>\n",
              "      <td>N/A</td>\n",
              "      <td>80</td>\n",
              "      <td>N/A</td>\n",
              "      <td>N/A</td>\n",
              "      <td>N/A</td>\n",
              "      <td>N/A</td>\n",
              "      <td>www.wells.edu</td>\n",
              "    </tr>\n",
              "    <tr>\n",
              "      <th>649</th>\n",
              "      <td>650.0</td>\n",
              "      <td>Catawba College</td>\n",
              "      <td>Salisbury</td>\n",
              "      <td>NC</td>\n",
              "      <td>Private</td>\n",
              "      <td>1336.0</td>\n",
              "      <td>1463.0</td>\n",
              "      <td>19807</td>\n",
              "      <td>23662</td>\n",
              "      <td>44921.0</td>\n",
              "      <td>78100</td>\n",
              "      <td>42</td>\n",
              "      <td>930</td>\n",
              "      <td>1100</td>\n",
              "      <td>18</td>\n",
              "      <td>23</td>\n",
              "      <td>www.catawba.edu</td>\n",
              "    </tr>\n",
              "  </tbody>\n",
              "</table>\n",
              "<p>650 rows × 17 columns</p>\n",
              "</div>"
            ],
            "text/plain": [
              "      Rank                                   Name  ... ACT Upper            Website\n",
              "0      1.0                     Harvard University  ...        35    www.harvard.edu\n",
              "1      2.0                    Stanford University  ...        35   www.stanford.edu\n",
              "2      3.0                        Yale University  ...        35       www.yale.edu\n",
              "3      4.0  Massachusetts Institute of Technology  ...        35        web.mit.edu\n",
              "4      5.0                   Princeton University  ...        35  www.princeton.edu\n",
              "..     ...                                    ...  ...       ...                ...\n",
              "645  646.0            New Mexico State University  ...        23       www.nmsu.edu\n",
              "646  647.0               Indiana State University  ...        23   www.indstate.edu\n",
              "647  648.0              Emory &amp; Henry College  ...        25        www.ehc.edu\n",
              "648  649.0                          Wells College  ...       N/A      www.wells.edu\n",
              "649  650.0                        Catawba College  ...        23    www.catawba.edu\n",
              "\n",
              "[650 rows x 17 columns]"
            ]
          },
          "metadata": {
            "tags": []
          },
          "execution_count": 7
        }
      ]
    },
    {
      "cell_type": "markdown",
      "metadata": {
        "id": "88mh4OJn2aPM"
      },
      "source": [
        "# **I will be working to analyze four hypotheses during this presentation.** \n",
        "\n",
        "---\n",
        "\n",
        "They are listed below:\n",
        "1.\tDo private institutions have an average lower Total Annual Cost than public institutions?\n",
        "\n",
        "\n",
        "2.\tDo public institutions rank higher on average than private institutions? \n",
        "\n",
        "\n",
        "3.\tDo private institutions have a higher Acceptance Rate than public instituitions?\n",
        "\n",
        "4.\tDo public institutions have a higher Average Grant Aid than private institutions? \n"
      ]
    },
    {
      "cell_type": "markdown",
      "metadata": {
        "id": "ZJ59NnpBsX-7"
      },
      "source": [
        "# **Hypothesis 1**\n",
        "\n",
        "**Null: Do private institutions have an average lower Total Annual Cost than public institutions?**"
      ]
    },
    {
      "cell_type": "markdown",
      "metadata": {
        "id": "62db-BxqhNuq"
      },
      "source": [
        "We will begin by creating a bucket DF (hyp_1) for our specific columns used during this analysis. "
      ]
    },
    {
      "cell_type": "code",
      "metadata": {
        "id": "HN2_R63CXAG-"
      },
      "source": [
        "hyp_1 = df[['Rank', 'Name', 'Public/Private', 'Total Annual Cost']] # placing needed variables into bucket DF Ken Wood6:28 PM\n"
      ],
      "execution_count": null,
      "outputs": []
    },
    {
      "cell_type": "code",
      "metadata": {
        "id": "MWdUMoYU0bMr",
        "colab": {
          "base_uri": "https://localhost:8080/",
          "height": 197
        },
        "outputId": "2a8b969c-d9f8-4248-9265-cb79db04a305"
      },
      "source": [
        "hyp_1.head()"
      ],
      "execution_count": null,
      "outputs": [
        {
          "output_type": "execute_result",
          "data": {
            "text/html": [
              "<div>\n",
              "<style scoped>\n",
              "    .dataframe tbody tr th:only-of-type {\n",
              "        vertical-align: middle;\n",
              "    }\n",
              "\n",
              "    .dataframe tbody tr th {\n",
              "        vertical-align: top;\n",
              "    }\n",
              "\n",
              "    .dataframe thead th {\n",
              "        text-align: right;\n",
              "    }\n",
              "</style>\n",
              "<table border=\"1\" class=\"dataframe\">\n",
              "  <thead>\n",
              "    <tr style=\"text-align: right;\">\n",
              "      <th></th>\n",
              "      <th>Rank</th>\n",
              "      <th>Name</th>\n",
              "      <th>Public/Private</th>\n",
              "      <th>Total Annual Cost</th>\n",
              "    </tr>\n",
              "  </thead>\n",
              "  <tbody>\n",
              "    <tr>\n",
              "      <th>0</th>\n",
              "      <td>1.0</td>\n",
              "      <td>Harvard University</td>\n",
              "      <td>Private</td>\n",
              "      <td>69600.0</td>\n",
              "    </tr>\n",
              "    <tr>\n",
              "      <th>1</th>\n",
              "      <td>2.0</td>\n",
              "      <td>Stanford University</td>\n",
              "      <td>Private</td>\n",
              "      <td>69109.0</td>\n",
              "    </tr>\n",
              "    <tr>\n",
              "      <th>2</th>\n",
              "      <td>3.0</td>\n",
              "      <td>Yale University</td>\n",
              "      <td>Private</td>\n",
              "      <td>71290.0</td>\n",
              "    </tr>\n",
              "    <tr>\n",
              "      <th>3</th>\n",
              "      <td>4.0</td>\n",
              "      <td>Massachusetts Institute of Technology</td>\n",
              "      <td>Private</td>\n",
              "      <td>67430.0</td>\n",
              "    </tr>\n",
              "    <tr>\n",
              "      <th>4</th>\n",
              "      <td>5.0</td>\n",
              "      <td>Princeton University</td>\n",
              "      <td>Private</td>\n",
              "      <td>66150.0</td>\n",
              "    </tr>\n",
              "  </tbody>\n",
              "</table>\n",
              "</div>"
            ],
            "text/plain": [
              "   Rank  ... Total Annual Cost\n",
              "0   1.0  ...           69600.0\n",
              "1   2.0  ...           69109.0\n",
              "2   3.0  ...           71290.0\n",
              "3   4.0  ...           67430.0\n",
              "4   5.0  ...           66150.0\n",
              "\n",
              "[5 rows x 4 columns]"
            ]
          },
          "metadata": {
            "tags": []
          },
          "execution_count": 9
        }
      ]
    },
    {
      "cell_type": "markdown",
      "metadata": {
        "id": "CydGFAmafVzH"
      },
      "source": [
        "There are 650 rows and 4 columns in this dataframe. "
      ]
    },
    {
      "cell_type": "code",
      "metadata": {
        "id": "RIukeIQ-4RNO",
        "colab": {
          "base_uri": "https://localhost:8080/",
          "height": 34
        },
        "outputId": "a1f454df-36c5-4237-d2d0-61c1e6b8b9a2"
      },
      "source": [
        "hyp_1.shape "
      ],
      "execution_count": null,
      "outputs": [
        {
          "output_type": "execute_result",
          "data": {
            "text/plain": [
              "(650, 4)"
            ]
          },
          "metadata": {
            "tags": []
          },
          "execution_count": 10
        }
      ]
    },
    {
      "cell_type": "markdown",
      "metadata": {
        "id": "DXmzO0J14bWL"
      },
      "source": [
        "Now we will split the hyp_1 dataframe by public and private institutions. Beginning with Public:"
      ]
    },
    {
      "cell_type": "code",
      "metadata": {
        "id": "YztuDngNOHq5",
        "colab": {
          "base_uri": "https://localhost:8080/",
          "height": 197
        },
        "outputId": "218b1d51-04de-405f-bf54-4325ab7fef7e"
      },
      "source": [
        "public = hyp_1.iloc[(hyp_1['Public/Private'] == 'Public').values] # separating public institutions\n",
        "public.head() # we can already see the top 11 institutions are private "
      ],
      "execution_count": null,
      "outputs": [
        {
          "output_type": "execute_result",
          "data": {
            "text/html": [
              "<div>\n",
              "<style scoped>\n",
              "    .dataframe tbody tr th:only-of-type {\n",
              "        vertical-align: middle;\n",
              "    }\n",
              "\n",
              "    .dataframe tbody tr th {\n",
              "        vertical-align: top;\n",
              "    }\n",
              "\n",
              "    .dataframe thead th {\n",
              "        text-align: right;\n",
              "    }\n",
              "</style>\n",
              "<table border=\"1\" class=\"dataframe\">\n",
              "  <thead>\n",
              "    <tr style=\"text-align: right;\">\n",
              "      <th></th>\n",
              "      <th>Rank</th>\n",
              "      <th>Name</th>\n",
              "      <th>Public/Private</th>\n",
              "      <th>Total Annual Cost</th>\n",
              "    </tr>\n",
              "  </thead>\n",
              "  <tbody>\n",
              "    <tr>\n",
              "      <th>12</th>\n",
              "      <td>13.0</td>\n",
              "      <td>University of California, Berkeley</td>\n",
              "      <td>Public</td>\n",
              "      <td>65003.0</td>\n",
              "    </tr>\n",
              "    <tr>\n",
              "      <th>19</th>\n",
              "      <td>20.0</td>\n",
              "      <td>University of Michigan, Ann Arbor</td>\n",
              "      <td>Public</td>\n",
              "      <td>62176.0</td>\n",
              "    </tr>\n",
              "    <tr>\n",
              "      <th>23</th>\n",
              "      <td>24.0</td>\n",
              "      <td>United States Naval Academy</td>\n",
              "      <td>Public</td>\n",
              "      <td>0.0</td>\n",
              "    </tr>\n",
              "    <tr>\n",
              "      <th>31</th>\n",
              "      <td>32.0</td>\n",
              "      <td>United States Military Academy</td>\n",
              "      <td>Public</td>\n",
              "      <td>0.0</td>\n",
              "    </tr>\n",
              "    <tr>\n",
              "      <th>32</th>\n",
              "      <td>33.0</td>\n",
              "      <td>University of Virginia</td>\n",
              "      <td>Public</td>\n",
              "      <td>62633.0</td>\n",
              "    </tr>\n",
              "  </tbody>\n",
              "</table>\n",
              "</div>"
            ],
            "text/plain": [
              "    Rank                                Name Public/Private  Total Annual Cost\n",
              "12  13.0  University of California, Berkeley         Public            65003.0\n",
              "19  20.0   University of Michigan, Ann Arbor         Public            62176.0\n",
              "23  24.0         United States Naval Academy         Public                0.0\n",
              "31  32.0      United States Military Academy         Public                0.0\n",
              "32  33.0              University of Virginia         Public            62633.0"
            ]
          },
          "metadata": {
            "tags": []
          },
          "execution_count": 11
        }
      ]
    },
    {
      "cell_type": "markdown",
      "metadata": {
        "id": "1g-eZPP7ffg6"
      },
      "source": [
        "There are 250 rows and 4 columns in the public dataframe. "
      ]
    },
    {
      "cell_type": "code",
      "metadata": {
        "id": "iqk5Mst84pjT",
        "colab": {
          "base_uri": "https://localhost:8080/",
          "height": 34
        },
        "outputId": "484efec6-9b3d-4b80-f09e-76552a795e6b"
      },
      "source": [
        "public.shape "
      ],
      "execution_count": null,
      "outputs": [
        {
          "output_type": "execute_result",
          "data": {
            "text/plain": [
              "(250, 4)"
            ]
          },
          "metadata": {
            "tags": []
          },
          "execution_count": 12
        }
      ]
    },
    {
      "cell_type": "markdown",
      "metadata": {
        "id": "X2lYEu444lO_"
      },
      "source": [
        "And moving to private:"
      ]
    },
    {
      "cell_type": "code",
      "metadata": {
        "id": "wgW1jKWCOIAU",
        "colab": {
          "base_uri": "https://localhost:8080/",
          "height": 377
        },
        "outputId": "a16f34af-4415-4dd3-97bc-87d2bd52f9f9"
      },
      "source": [
        "private = hyp_1.iloc[(hyp_1['Public/Private'] == 'Private').values] # separating private institutions\n",
        "private.head(11)"
      ],
      "execution_count": null,
      "outputs": [
        {
          "output_type": "execute_result",
          "data": {
            "text/html": [
              "<div>\n",
              "<style scoped>\n",
              "    .dataframe tbody tr th:only-of-type {\n",
              "        vertical-align: middle;\n",
              "    }\n",
              "\n",
              "    .dataframe tbody tr th {\n",
              "        vertical-align: top;\n",
              "    }\n",
              "\n",
              "    .dataframe thead th {\n",
              "        text-align: right;\n",
              "    }\n",
              "</style>\n",
              "<table border=\"1\" class=\"dataframe\">\n",
              "  <thead>\n",
              "    <tr style=\"text-align: right;\">\n",
              "      <th></th>\n",
              "      <th>Rank</th>\n",
              "      <th>Name</th>\n",
              "      <th>Public/Private</th>\n",
              "      <th>Total Annual Cost</th>\n",
              "    </tr>\n",
              "  </thead>\n",
              "  <tbody>\n",
              "    <tr>\n",
              "      <th>0</th>\n",
              "      <td>1.0</td>\n",
              "      <td>Harvard University</td>\n",
              "      <td>Private</td>\n",
              "      <td>69600.0</td>\n",
              "    </tr>\n",
              "    <tr>\n",
              "      <th>1</th>\n",
              "      <td>2.0</td>\n",
              "      <td>Stanford University</td>\n",
              "      <td>Private</td>\n",
              "      <td>69109.0</td>\n",
              "    </tr>\n",
              "    <tr>\n",
              "      <th>2</th>\n",
              "      <td>3.0</td>\n",
              "      <td>Yale University</td>\n",
              "      <td>Private</td>\n",
              "      <td>71290.0</td>\n",
              "    </tr>\n",
              "    <tr>\n",
              "      <th>3</th>\n",
              "      <td>4.0</td>\n",
              "      <td>Massachusetts Institute of Technology</td>\n",
              "      <td>Private</td>\n",
              "      <td>67430.0</td>\n",
              "    </tr>\n",
              "    <tr>\n",
              "      <th>4</th>\n",
              "      <td>5.0</td>\n",
              "      <td>Princeton University</td>\n",
              "      <td>Private</td>\n",
              "      <td>66150.0</td>\n",
              "    </tr>\n",
              "    <tr>\n",
              "      <th>5</th>\n",
              "      <td>6.0</td>\n",
              "      <td>University of Pennsylvania</td>\n",
              "      <td>Private</td>\n",
              "      <td>71715.0</td>\n",
              "    </tr>\n",
              "    <tr>\n",
              "      <th>6</th>\n",
              "      <td>7.0</td>\n",
              "      <td>Brown University</td>\n",
              "      <td>Private</td>\n",
              "      <td>71050.0</td>\n",
              "    </tr>\n",
              "    <tr>\n",
              "      <th>7</th>\n",
              "      <td>8.0</td>\n",
              "      <td>California Institute of Technology</td>\n",
              "      <td>Private</td>\n",
              "      <td>68901.0</td>\n",
              "    </tr>\n",
              "    <tr>\n",
              "      <th>8</th>\n",
              "      <td>9.0</td>\n",
              "      <td>Duke University</td>\n",
              "      <td>Private</td>\n",
              "      <td>71764.0</td>\n",
              "    </tr>\n",
              "    <tr>\n",
              "      <th>9</th>\n",
              "      <td>10.0</td>\n",
              "      <td>Dartmouth College</td>\n",
              "      <td>Private</td>\n",
              "      <td>71827.0</td>\n",
              "    </tr>\n",
              "    <tr>\n",
              "      <th>10</th>\n",
              "      <td>11.0</td>\n",
              "      <td>Cornell University</td>\n",
              "      <td>Private</td>\n",
              "      <td>70321.0</td>\n",
              "    </tr>\n",
              "  </tbody>\n",
              "</table>\n",
              "</div>"
            ],
            "text/plain": [
              "    Rank  ... Total Annual Cost\n",
              "0    1.0  ...           69600.0\n",
              "1    2.0  ...           69109.0\n",
              "2    3.0  ...           71290.0\n",
              "3    4.0  ...           67430.0\n",
              "4    5.0  ...           66150.0\n",
              "5    6.0  ...           71715.0\n",
              "6    7.0  ...           71050.0\n",
              "7    8.0  ...           68901.0\n",
              "8    9.0  ...           71764.0\n",
              "9   10.0  ...           71827.0\n",
              "10  11.0  ...           70321.0\n",
              "\n",
              "[11 rows x 4 columns]"
            ]
          },
          "metadata": {
            "tags": []
          },
          "execution_count": 13
        }
      ]
    },
    {
      "cell_type": "markdown",
      "metadata": {
        "id": "9wD4AnPKfoGe"
      },
      "source": [
        "There are 400 rows and 4 columns in the private dataframe. "
      ]
    },
    {
      "cell_type": "code",
      "metadata": {
        "id": "-4eVRBMV4xiD",
        "colab": {
          "base_uri": "https://localhost:8080/",
          "height": 34
        },
        "outputId": "75a3020e-cc64-41c3-a1a6-c116ebaa3916"
      },
      "source": [
        "private.shape "
      ],
      "execution_count": null,
      "outputs": [
        {
          "output_type": "execute_result",
          "data": {
            "text/plain": [
              "(400, 4)"
            ]
          },
          "metadata": {
            "tags": []
          },
          "execution_count": 14
        }
      ]
    },
    {
      "cell_type": "markdown",
      "metadata": {
        "id": "l1bOlAv645CS"
      },
      "source": [
        "Now we will begin statistical analysis of the public and private dataframes beginning with private. This will determine the answer to our hypothesis. "
      ]
    },
    {
      "cell_type": "code",
      "metadata": {
        "id": "cNx-Ci1VOIQj",
        "colab": {
          "base_uri": "https://localhost:8080/",
          "height": 176
        },
        "outputId": "90967103-1f2c-44f1-c0c6-ded063f2c9fb"
      },
      "source": [
        "private['Total Annual Cost'].describe() # starter statistics"
      ],
      "execution_count": null,
      "outputs": [
        {
          "output_type": "execute_result",
          "data": {
            "text/plain": [
              "count      400.00000\n",
              "mean     57082.62750\n",
              "std      10298.79213\n",
              "min      12322.00000\n",
              "25%      49930.00000\n",
              "50%      57370.00000\n",
              "75%      65957.50000\n",
              "max      75735.00000\n",
              "Name: Total Annual Cost, dtype: float64"
            ]
          },
          "metadata": {
            "tags": []
          },
          "execution_count": 15
        }
      ]
    },
    {
      "cell_type": "markdown",
      "metadata": {
        "id": "FLFNQ2orfyOt"
      },
      "source": [
        "The mean is our most important number above. It shows a $57,082.63 average Total Annual Cost. "
      ]
    },
    {
      "cell_type": "code",
      "metadata": {
        "id": "H6rTCALXw0qY",
        "colab": {
          "base_uri": "https://localhost:8080/",
          "height": 295
        },
        "outputId": "d0042a28-1955-4410-e552-f44b01926433"
      },
      "source": [
        "ax = sns.distplot(private['Total Annual Cost']) #normal distribution confirmed"
      ],
      "execution_count": null,
      "outputs": [
        {
          "output_type": "display_data",
          "data": {
            "image/png": "[encoded data removed]",
            "text/plain": [
              "<Figure size 432x288 with 1 Axes>"
            ]
          },
          "metadata": {
            "tags": []
          }
        }
      ]
    },
    {
      "cell_type": "markdown",
      "metadata": {
        "id": "aaCHEyOIZ-Mq"
      },
      "source": [
        "The Histogram above shows that we have a normal distribution in our values within the column of Total Annual Cost. "
      ]
    },
    {
      "cell_type": "markdown",
      "metadata": {
        "id": "ScvpaIzDZ_Lr"
      },
      "source": [
        "Now we will analyze the public dataframe's statistics. "
      ]
    },
    {
      "cell_type": "code",
      "metadata": {
        "id": "mTKLaUdhOIjh",
        "colab": {
          "base_uri": "https://localhost:8080/",
          "height": 176
        },
        "outputId": "f55561bd-d8e1-421b-9b5f-e3b12d34bf01"
      },
      "source": [
        "public['Total Annual Cost'].describe() # starter statistics , and technically we have already disproven our hypothesis . Time for some visuals. "
      ],
      "execution_count": null,
      "outputs": [
        {
          "output_type": "execute_result",
          "data": {
            "text/plain": [
              "count      250.000000\n",
              "mean     39526.252000\n",
              "std       9763.818174\n",
              "min          0.000000\n",
              "25%      34524.500000\n",
              "50%      38536.000000\n",
              "75%      44171.000000\n",
              "max      65003.000000\n",
              "Name: Total Annual Cost, dtype: float64"
            ]
          },
          "metadata": {
            "tags": []
          },
          "execution_count": 17
        }
      ]
    },
    {
      "cell_type": "markdown",
      "metadata": {
        "id": "ank5CeiGgIJO"
      },
      "source": [
        "Our mean is again the most important number here and we can see a $39,526.25 Total Annual Cost on average for public institutions. \n",
        "\n",
        "Below we will plot the points in a histogram. "
      ]
    },
    {
      "cell_type": "code",
      "metadata": {
        "id": "W0FmjLZ-w0RZ",
        "colab": {
          "base_uri": "https://localhost:8080/",
          "height": 295
        },
        "outputId": "182d7565-e52d-4389-e62c-fb2fc16c3a15"
      },
      "source": [
        "ax = sns.distplot(public['Total Annual Cost']) #normal distribution confirmed"
      ],
      "execution_count": null,
      "outputs": [
        {
          "output_type": "display_data",
          "data": {
            "image/png": "[encoded data removed]",
            "text/plain": [
              "<Figure size 432x288 with 1 Axes>"
            ]
          },
          "metadata": {
            "tags": []
          }
        }
      ]
    },
    {
      "cell_type": "markdown",
      "metadata": {
        "id": "pbVDCfvvgXQ1"
      },
      "source": [
        "Our histogram shows some minor outliers at the 0 cost range. These are military institutions and I felt it was proper to keep their cost included in our calculations , because that is the accurate story of the data. "
      ]
    },
    {
      "cell_type": "markdown",
      "metadata": {
        "id": "-V89mHai5O2O"
      },
      "source": [
        "Now we will run a simple T-test to determine the reliability of these dataframes and to confirm our results. "
      ]
    },
    {
      "cell_type": "code",
      "metadata": {
        "id": "allRUi5e5XKo",
        "colab": {
          "base_uri": "https://localhost:8080/",
          "height": 34
        },
        "outputId": "9dbe9e38-1b38-43bf-c033-9b971d11d2c5"
      },
      "source": [
        "stats.ttest_ind(public['Total Annual Cost'], private['Total Annual Cost'])"
      ],
      "execution_count": null,
      "outputs": [
        {
          "output_type": "execute_result",
          "data": {
            "text/plain": [
              "Ttest_indResult(statistic=-21.567708486238956, pvalue=3.5433374270295964e-78)"
            ]
          },
          "metadata": {
            "tags": []
          },
          "execution_count": 19
        }
      ]
    },
    {
      "cell_type": "markdown",
      "metadata": {
        "id": "ysCiEwUUgpIX"
      },
      "source": [
        "As you can see our T-test P-value shows a strong negative result . We have some solid evidence to reject our null with this . "
      ]
    },
    {
      "cell_type": "markdown",
      "metadata": {
        "id": "BJWsonIX_igo"
      },
      "source": [
        "Now we will calculate the confidence interval between the two dataframes. "
      ]
    },
    {
      "cell_type": "code",
      "metadata": {
        "id": "ZsEmgqe1-gzK"
      },
      "source": [
        "# Calculate the sample size, mean and variance of each sample...\n",
        "# We will need this information to calculate standard errors\n",
        "\n",
        "sample_1_n = public.shape[0]\n",
        "sample_2_n = private.shape[0]\n",
        "sample_1_mean = public['Total Annual Cost'].mean()\n",
        "sample_2_mean = private['Total Annual Cost'].mean()\n",
        "sample_1_var = public['Total Annual Cost'].var()\n",
        "sample_2_var = private['Total Annual Cost'].var()"
      ],
      "execution_count": null,
      "outputs": []
    },
    {
      "cell_type": "code",
      "metadata": {
        "id": "7E7LSASd-hjS",
        "colab": {
          "base_uri": "https://localhost:8080/",
          "height": 34
        },
        "outputId": "334d6b58-6e61-4ced-cc7a-0c7df32308a3"
      },
      "source": [
        "std_err_difference = math.sqrt((sample_1_var/sample_1_n)+(sample_2_var/sample_2_n))\n",
        "\n",
        "mean_difference = sample_2_mean - sample_1_mean\n",
        "\n",
        "margin_of_error = 1.96 * std_err_difference\n",
        "ci_lower = mean_difference - margin_of_error\n",
        "ci_upper = mean_difference + margin_of_error\n",
        "\n",
        "print(\"The difference in means at the 95% confidence interval is between \"+str(ci_lower)+\" and \"+str(ci_upper)+\".\")"
      ],
      "execution_count": null,
      "outputs": [
        {
          "output_type": "stream",
          "text": [
            "The difference in means at the 95% confidence interval is between 15980.44362192622 and 19132.307378073783.\n"
          ],
          "name": "stdout"
        }
      ]
    },
    {
      "cell_type": "markdown",
      "metadata": {
        "id": "s0cw8Y7VhCer"
      },
      "source": [
        "The results from our confidence interval show a very substantial difference in means and provides us the evidence to reject our null. "
      ]
    },
    {
      "cell_type": "markdown",
      "metadata": {
        "id": "lUZuihOhQJko"
      },
      "source": [
        "*I would say that the 0 cost values for the Military institutions play a part in our findings , but they are technically public and that is their cost.*\n",
        "\n",
        "**Private Total Annual Cost: $57,082.63**\n",
        "\n",
        "**Public Total Annual Cost: $39,526.25**\n",
        "\n",
        "**We can reject our hypothesis that private institutions have a lower average Total Annual Cost. Our P-value and confidence interval strongly support our conclusion to reject the null.** \n",
        "\n",
        "**From this result we can gather that those looking for a lower cost may want to gear their college search towards public institutions.** "
      ]
    },
    {
      "cell_type": "code",
      "metadata": {
        "id": "vg-zqMWRw1CV",
        "colab": {
          "base_uri": "https://localhost:8080/",
          "height": 284
        },
        "outputId": "e5a94f4e-499a-4c15-885b-cf16118cdbf2"
      },
      "source": [
        "ax = sns.barplot(x=\"Public/Private\", y=\"Total Annual Cost\", hue=\"Public/Private\", data=df)"
      ],
      "execution_count": null,
      "outputs": [
        {
          "output_type": "display_data",
          "data": {
            "image/png": "[encoded data removed]",
            "text/plain": [
              "<Figure size 432x288 with 1 Axes>"
            ]
          },
          "metadata": {
            "tags": []
          }
        }
      ]
    },
    {
      "cell_type": "markdown",
      "metadata": {
        "id": "mnQUM9NshX0i"
      },
      "source": [
        "The bar-plot above is merely a visualisation of the means for both public and private institutions. I thought this would be a nice capstone for this hypothesis. "
      ]
    },
    {
      "cell_type": "markdown",
      "metadata": {
        "id": "YBBZvEikQbH8"
      },
      "source": [
        "# **Hypothesis 2**\n",
        "\n",
        "**Null: Do public institutions rank higher on average than private institutions?**\n",
        "\n"
      ]
    },
    {
      "cell_type": "markdown",
      "metadata": {
        "id": "D-dWCbwol3TA"
      },
      "source": [
        "Beginning with Private institutions we will start with some generic stats. The previous public and private dataframes from Hypothesis 1 will be used for ease since they contain the ranking. "
      ]
    },
    {
      "cell_type": "code",
      "metadata": {
        "id": "MIyW8ENwQYjB",
        "colab": {
          "base_uri": "https://localhost:8080/",
          "height": 197
        },
        "outputId": "284c9649-5417-4468-dae7-a903ab81ad74"
      },
      "source": [
        "private.head() # We will re-use these variables as they contain the ranking as well "
      ],
      "execution_count": null,
      "outputs": [
        {
          "output_type": "execute_result",
          "data": {
            "text/html": [
              "<div>\n",
              "<style scoped>\n",
              "    .dataframe tbody tr th:only-of-type {\n",
              "        vertical-align: middle;\n",
              "    }\n",
              "\n",
              "    .dataframe tbody tr th {\n",
              "        vertical-align: top;\n",
              "    }\n",
              "\n",
              "    .dataframe thead th {\n",
              "        text-align: right;\n",
              "    }\n",
              "</style>\n",
              "<table border=\"1\" class=\"dataframe\">\n",
              "  <thead>\n",
              "    <tr style=\"text-align: right;\">\n",
              "      <th></th>\n",
              "      <th>Rank</th>\n",
              "      <th>Name</th>\n",
              "      <th>Public/Private</th>\n",
              "      <th>Total Annual Cost</th>\n",
              "    </tr>\n",
              "  </thead>\n",
              "  <tbody>\n",
              "    <tr>\n",
              "      <th>0</th>\n",
              "      <td>1.0</td>\n",
              "      <td>Harvard University</td>\n",
              "      <td>Private</td>\n",
              "      <td>69600.0</td>\n",
              "    </tr>\n",
              "    <tr>\n",
              "      <th>1</th>\n",
              "      <td>2.0</td>\n",
              "      <td>Stanford University</td>\n",
              "      <td>Private</td>\n",
              "      <td>69109.0</td>\n",
              "    </tr>\n",
              "    <tr>\n",
              "      <th>2</th>\n",
              "      <td>3.0</td>\n",
              "      <td>Yale University</td>\n",
              "      <td>Private</td>\n",
              "      <td>71290.0</td>\n",
              "    </tr>\n",
              "    <tr>\n",
              "      <th>3</th>\n",
              "      <td>4.0</td>\n",
              "      <td>Massachusetts Institute of Technology</td>\n",
              "      <td>Private</td>\n",
              "      <td>67430.0</td>\n",
              "    </tr>\n",
              "    <tr>\n",
              "      <th>4</th>\n",
              "      <td>5.0</td>\n",
              "      <td>Princeton University</td>\n",
              "      <td>Private</td>\n",
              "      <td>66150.0</td>\n",
              "    </tr>\n",
              "  </tbody>\n",
              "</table>\n",
              "</div>"
            ],
            "text/plain": [
              "   Rank  ... Total Annual Cost\n",
              "0   1.0  ...           69600.0\n",
              "1   2.0  ...           69109.0\n",
              "2   3.0  ...           71290.0\n",
              "3   4.0  ...           67430.0\n",
              "4   5.0  ...           66150.0\n",
              "\n",
              "[5 rows x 4 columns]"
            ]
          },
          "metadata": {
            "tags": []
          },
          "execution_count": 23
        }
      ]
    },
    {
      "cell_type": "markdown",
      "metadata": {
        "id": "Y12WvIM8lkf8"
      },
      "source": [
        "Below we will plot the points in a histogram to check the distribution. "
      ]
    },
    {
      "cell_type": "code",
      "metadata": {
        "id": "2QIXloQb5TfT",
        "colab": {
          "base_uri": "https://localhost:8080/",
          "height": 284
        },
        "outputId": "26cad076-602e-4364-8c0f-9ba47e0e251f"
      },
      "source": [
        "ax = sns.distplot(private['Rank']) #normal distribution confirmed"
      ],
      "execution_count": null,
      "outputs": [
        {
          "output_type": "display_data",
          "data": {
            "image/png": "[encoded data removed]",
            "text/plain": [
              "<Figure size 432x288 with 1 Axes>"
            ]
          },
          "metadata": {
            "tags": []
          }
        }
      ]
    },
    {
      "cell_type": "markdown",
      "metadata": {
        "id": "ZlEzILWylvvm"
      },
      "source": [
        "Next we will run some statistics and our main focus will be the mean. The mean rank for private institutions is 303.5."
      ]
    },
    {
      "cell_type": "code",
      "metadata": {
        "id": "4NpavS-ZlLcJ",
        "colab": {
          "base_uri": "https://localhost:8080/",
          "height": 176
        },
        "outputId": "dc9dc009-7d8a-4224-9885-737f7f634c0b"
      },
      "source": [
        "private['Rank'].describe() # starter statistics"
      ],
      "execution_count": null,
      "outputs": [
        {
          "output_type": "execute_result",
          "data": {
            "text/plain": [
              "count    400.000000\n",
              "mean     303.605000\n",
              "std      187.472074\n",
              "min        1.000000\n",
              "25%      136.500000\n",
              "50%      302.500000\n",
              "75%      460.250000\n",
              "max      650.000000\n",
              "Name: Rank, dtype: float64"
            ]
          },
          "metadata": {
            "tags": []
          },
          "execution_count": 25
        }
      ]
    },
    {
      "cell_type": "markdown",
      "metadata": {
        "id": "4LGWRBNnmaHc"
      },
      "source": [
        "."
      ]
    },
    {
      "cell_type": "markdown",
      "metadata": {
        "id": "2IWyyQDflyfb"
      },
      "source": [
        "Now for the public institutions:"
      ]
    },
    {
      "cell_type": "code",
      "metadata": {
        "id": "pElZfupdQY9J",
        "colab": {
          "base_uri": "https://localhost:8080/",
          "height": 197
        },
        "outputId": "64325c80-5b48-4df2-aa70-71ae1817204a"
      },
      "source": [
        "public.head()"
      ],
      "execution_count": null,
      "outputs": [
        {
          "output_type": "execute_result",
          "data": {
            "text/html": [
              "<div>\n",
              "<style scoped>\n",
              "    .dataframe tbody tr th:only-of-type {\n",
              "        vertical-align: middle;\n",
              "    }\n",
              "\n",
              "    .dataframe tbody tr th {\n",
              "        vertical-align: top;\n",
              "    }\n",
              "\n",
              "    .dataframe thead th {\n",
              "        text-align: right;\n",
              "    }\n",
              "</style>\n",
              "<table border=\"1\" class=\"dataframe\">\n",
              "  <thead>\n",
              "    <tr style=\"text-align: right;\">\n",
              "      <th></th>\n",
              "      <th>Rank</th>\n",
              "      <th>Name</th>\n",
              "      <th>Public/Private</th>\n",
              "      <th>Total Annual Cost</th>\n",
              "    </tr>\n",
              "  </thead>\n",
              "  <tbody>\n",
              "    <tr>\n",
              "      <th>12</th>\n",
              "      <td>13.0</td>\n",
              "      <td>University of California, Berkeley</td>\n",
              "      <td>Public</td>\n",
              "      <td>65003.0</td>\n",
              "    </tr>\n",
              "    <tr>\n",
              "      <th>19</th>\n",
              "      <td>20.0</td>\n",
              "      <td>University of Michigan, Ann Arbor</td>\n",
              "      <td>Public</td>\n",
              "      <td>62176.0</td>\n",
              "    </tr>\n",
              "    <tr>\n",
              "      <th>23</th>\n",
              "      <td>24.0</td>\n",
              "      <td>United States Naval Academy</td>\n",
              "      <td>Public</td>\n",
              "      <td>0.0</td>\n",
              "    </tr>\n",
              "    <tr>\n",
              "      <th>31</th>\n",
              "      <td>32.0</td>\n",
              "      <td>United States Military Academy</td>\n",
              "      <td>Public</td>\n",
              "      <td>0.0</td>\n",
              "    </tr>\n",
              "    <tr>\n",
              "      <th>32</th>\n",
              "      <td>33.0</td>\n",
              "      <td>University of Virginia</td>\n",
              "      <td>Public</td>\n",
              "      <td>62633.0</td>\n",
              "    </tr>\n",
              "  </tbody>\n",
              "</table>\n",
              "</div>"
            ],
            "text/plain": [
              "    Rank                                Name Public/Private  Total Annual Cost\n",
              "12  13.0  University of California, Berkeley         Public            65003.0\n",
              "19  20.0   University of Michigan, Ann Arbor         Public            62176.0\n",
              "23  24.0         United States Naval Academy         Public                0.0\n",
              "31  32.0      United States Military Academy         Public                0.0\n",
              "32  33.0              University of Virginia         Public            62633.0"
            ]
          },
          "metadata": {
            "tags": []
          },
          "execution_count": 26
        }
      ]
    },
    {
      "cell_type": "markdown",
      "metadata": {
        "id": "AVP9SrFKl_mb"
      },
      "source": [
        "Again we will plot the points in a histogram to view the distributions. "
      ]
    },
    {
      "cell_type": "code",
      "metadata": {
        "id": "459BDmVp5VgY",
        "colab": {
          "base_uri": "https://localhost:8080/",
          "height": 284
        },
        "outputId": "5aadaf5e-3908-4811-f29c-55da81c7095b"
      },
      "source": [
        "ax = sns.distplot(public['Rank']) #normal distribution confirmed"
      ],
      "execution_count": null,
      "outputs": [
        {
          "output_type": "display_data",
          "data": {
            "image/png": "[encoded data removed]",
            "text/plain": [
              "<Figure size 432x288 with 1 Axes>"
            ]
          },
          "metadata": {
            "tags": []
          }
        }
      ]
    },
    {
      "cell_type": "markdown",
      "metadata": {
        "id": "jVgKuO2CnFK2"
      },
      "source": [
        "Again we will measure statitistics with a main focus on the mean of the Rank column which is 360.5 . "
      ]
    },
    {
      "cell_type": "code",
      "metadata": {
        "id": "unj4sCpLlLDt",
        "colab": {
          "base_uri": "https://localhost:8080/",
          "height": 176
        },
        "outputId": "ccb33047-b2a4-46ce-c194-edaa8de0f777"
      },
      "source": [
        "public['Rank'].describe() # starter statistics , and technically we have already disproven our hypothesis . Time for some confirmation though. "
      ],
      "execution_count": null,
      "outputs": [
        {
          "output_type": "execute_result",
          "data": {
            "text/plain": [
              "count    250.000000\n",
              "mean     360.532000\n",
              "std      183.272683\n",
              "min       13.000000\n",
              "25%      206.500000\n",
              "50%      364.500000\n",
              "75%      517.750000\n",
              "max      647.000000\n",
              "Name: Rank, dtype: float64"
            ]
          },
          "metadata": {
            "tags": []
          },
          "execution_count": 28
        }
      ]
    },
    {
      "cell_type": "markdown",
      "metadata": {
        "id": "GYr7qUHn698N"
      },
      "source": [
        "Now we will run a T-test to confirm the reliability of our data in the public and private dataframe. \n",
        "\n",
        "Our P-Value shows weak evidence against the null hypothesis. "
      ]
    },
    {
      "cell_type": "code",
      "metadata": {
        "id": "7rjT9tg27FAc",
        "colab": {
          "base_uri": "https://localhost:8080/",
          "height": 34
        },
        "outputId": "c30b2e61-707a-4d87-d827-e25930bb2d6a"
      },
      "source": [
        "stats.ttest_ind(private['Rank'], public['Rank'])"
      ],
      "execution_count": null,
      "outputs": [
        {
          "output_type": "execute_result",
          "data": {
            "text/plain": [
              "Ttest_indResult(statistic=-3.7988588113856046, pvalue=0.00015904441902993242)"
            ]
          },
          "metadata": {
            "tags": []
          },
          "execution_count": 69
        }
      ]
    },
    {
      "cell_type": "markdown",
      "metadata": {
        "id": "IQrxU5ui_3QY"
      },
      "source": [
        "Next we will use these results to calculate the confidence interval between the public and private dataframes. "
      ]
    },
    {
      "cell_type": "code",
      "metadata": {
        "id": "CHB6VxVS_-nG"
      },
      "source": [
        "# Calculate the sample size, mean and variance of each sample...\n",
        "# We will need this information to calculate standard errors\n",
        "\n",
        "sample_1_n = public.shape[0]\n",
        "sample_2_n = private.shape[0]\n",
        "sample_1_mean = public['Rank'].mean()\n",
        "sample_2_mean = private['Rank'].mean()\n",
        "sample_1_var = public['Rank'].var()\n",
        "sample_2_var = private['Rank'].var()"
      ],
      "execution_count": null,
      "outputs": []
    },
    {
      "cell_type": "code",
      "metadata": {
        "id": "uXST_tdLBES7",
        "colab": {
          "base_uri": "https://localhost:8080/",
          "height": 34
        },
        "outputId": "34195df7-959c-4ba5-8254-c936314d2489"
      },
      "source": [
        "std_err_difference = math.sqrt((sample_1_var/sample_1_n)+(sample_2_var/sample_2_n))\n",
        "\n",
        "mean_difference = sample_2_mean - sample_1_mean\n",
        "\n",
        "margin_of_error = 1.96 * std_err_difference\n",
        "ci_lower = mean_difference - margin_of_error\n",
        "ci_upper = mean_difference + margin_of_error\n",
        "\n",
        "print(\"The difference in means at the 95% confidence interval is between \"+str(ci_lower)+\" and \"+str(ci_upper)+\".\")"
      ],
      "execution_count": null,
      "outputs": [
        {
          "output_type": "stream",
          "text": [
            "The difference in means at the 95% confidence interval is between -86.14480565901007 and -27.709194340989846.\n"
          ],
          "name": "stdout"
        }
      ]
    },
    {
      "cell_type": "markdown",
      "metadata": {
        "id": "771PgFfpn7Vl"
      },
      "source": [
        "From this result we can see there is a notable difference in the mean Rank from our confidence interval test. "
      ]
    },
    {
      "cell_type": "markdown",
      "metadata": {
        "id": "IcUd1mtDmI_G"
      },
      "source": [
        "**As we can see the Public institutions perform strongly despite their lack of positioning in the top 10 ranking.** \n",
        "\n",
        "Public Average Ranking : 360.5\n",
        "\n",
        "Private Average Ranking: 303.6\n",
        "\n",
        "**We can reject our hypothesis null that public institutions have an average ranking that is lower than private institutions. Our P-values and confidence interval results support this result.** \n",
        "\n",
        "**This result shows that students searching for a higher ranking institution should gear their college search towards private institutions.**\n",
        "\n"
      ]
    },
    {
      "cell_type": "code",
      "metadata": {
        "id": "WUaS8tnuocbJ",
        "colab": {
          "base_uri": "https://localhost:8080/",
          "height": 285
        },
        "outputId": "a744f32d-30b2-4635-df9d-5900baef8048"
      },
      "source": [
        "ax = sns.barplot(x=\"Public/Private\", y=\"Rank\", hue=\"Public/Private\", data=df)"
      ],
      "execution_count": null,
      "outputs": [
        {
          "output_type": "display_data",
          "data": {
            "image/png": "[encoded data removed]",
            "text/plain": [
              "<Figure size 432x288 with 1 Axes>"
            ]
          },
          "metadata": {
            "tags": []
          }
        }
      ]
    },
    {
      "cell_type": "markdown",
      "metadata": {
        "id": "gd8VddFhpYaP"
      },
      "source": [
        "The above bar-plot is merely to show a visualisation of the means of the Ranks between public and private institutions. "
      ]
    },
    {
      "cell_type": "markdown",
      "metadata": {
        "id": "cM3siLA2na98"
      },
      "source": [
        "# **Hypothesis 3**\n",
        "\n",
        "**Null: Do private institutions have a higher Acceptance Rate than public institutions?**"
      ]
    },
    {
      "cell_type": "markdown",
      "metadata": {
        "id": "wu8O3TH1qGrm"
      },
      "source": [
        "We will begin with creating a bucket dataframe and then seperating these into a public and private dataframe for the individual designations. "
      ]
    },
    {
      "cell_type": "code",
      "metadata": {
        "id": "0vW9QOVqlLxU"
      },
      "source": [
        "hyp_3 = df[['Rank', 'Name', 'Public/Private', 'Acceptance Rate']] # placing needed variables into bucket DF\n"
      ],
      "execution_count": null,
      "outputs": []
    },
    {
      "cell_type": "markdown",
      "metadata": {
        "id": "-vqCwyqStDjh"
      },
      "source": [
        "Our hyp_3 dataframe has 650 rows and 4 columns. "
      ]
    },
    {
      "cell_type": "code",
      "metadata": {
        "id": "oJeuYCLRs9lo",
        "colab": {
          "base_uri": "https://localhost:8080/",
          "height": 34
        },
        "outputId": "1907efb1-8339-4a75-f957-3fcb63945be0"
      },
      "source": [
        "hyp_3.shape"
      ],
      "execution_count": null,
      "outputs": [
        {
          "output_type": "execute_result",
          "data": {
            "text/plain": [
              "(650, 4)"
            ]
          },
          "metadata": {
            "tags": []
          },
          "execution_count": 34
        }
      ]
    },
    {
      "cell_type": "code",
      "metadata": {
        "id": "F7l6IBz4s9-k",
        "colab": {
          "base_uri": "https://localhost:8080/",
          "height": 197
        },
        "outputId": "827ac9af-6d65-4e97-a5fa-aedeadb28c00"
      },
      "source": [
        "hyp_3.head()"
      ],
      "execution_count": null,
      "outputs": [
        {
          "output_type": "execute_result",
          "data": {
            "text/html": [
              "<div>\n",
              "<style scoped>\n",
              "    .dataframe tbody tr th:only-of-type {\n",
              "        vertical-align: middle;\n",
              "    }\n",
              "\n",
              "    .dataframe tbody tr th {\n",
              "        vertical-align: top;\n",
              "    }\n",
              "\n",
              "    .dataframe thead th {\n",
              "        text-align: right;\n",
              "    }\n",
              "</style>\n",
              "<table border=\"1\" class=\"dataframe\">\n",
              "  <thead>\n",
              "    <tr style=\"text-align: right;\">\n",
              "      <th></th>\n",
              "      <th>Rank</th>\n",
              "      <th>Name</th>\n",
              "      <th>Public/Private</th>\n",
              "      <th>Acceptance Rate</th>\n",
              "    </tr>\n",
              "  </thead>\n",
              "  <tbody>\n",
              "    <tr>\n",
              "      <th>0</th>\n",
              "      <td>1.0</td>\n",
              "      <td>Harvard University</td>\n",
              "      <td>Private</td>\n",
              "      <td>5.0</td>\n",
              "    </tr>\n",
              "    <tr>\n",
              "      <th>1</th>\n",
              "      <td>2.0</td>\n",
              "      <td>Stanford University</td>\n",
              "      <td>Private</td>\n",
              "      <td>5.0</td>\n",
              "    </tr>\n",
              "    <tr>\n",
              "      <th>2</th>\n",
              "      <td>3.0</td>\n",
              "      <td>Yale University</td>\n",
              "      <td>Private</td>\n",
              "      <td>7.0</td>\n",
              "    </tr>\n",
              "    <tr>\n",
              "      <th>3</th>\n",
              "      <td>4.0</td>\n",
              "      <td>Massachusetts Institute of Technology</td>\n",
              "      <td>Private</td>\n",
              "      <td>7.0</td>\n",
              "    </tr>\n",
              "    <tr>\n",
              "      <th>4</th>\n",
              "      <td>5.0</td>\n",
              "      <td>Princeton University</td>\n",
              "      <td>Private</td>\n",
              "      <td>6.0</td>\n",
              "    </tr>\n",
              "  </tbody>\n",
              "</table>\n",
              "</div>"
            ],
            "text/plain": [
              "   Rank                                   Name Public/Private  Acceptance Rate\n",
              "0   1.0                     Harvard University        Private              5.0\n",
              "1   2.0                    Stanford University        Private              5.0\n",
              "2   3.0                        Yale University        Private              7.0\n",
              "3   4.0  Massachusetts Institute of Technology        Private              7.0\n",
              "4   5.0                   Princeton University        Private              6.0"
            ]
          },
          "metadata": {
            "tags": []
          },
          "execution_count": 35
        }
      ]
    },
    {
      "cell_type": "markdown",
      "metadata": {
        "id": "1XQTf27ltGVD"
      },
      "source": [
        "**Below is an examination of the statistics of the entire dataframe including both Public and Private institutions and their Acceptance Rates**"
      ]
    },
    {
      "cell_type": "code",
      "metadata": {
        "id": "x6sUXdwStHGr",
        "colab": {
          "base_uri": "https://localhost:8080/",
          "height": 176
        },
        "outputId": "a02ba3d9-ed7c-4526-a7c6-8abecae5ba0a"
      },
      "source": [
        "hyp_3['Acceptance Rate'].describe()"
      ],
      "execution_count": null,
      "outputs": [
        {
          "output_type": "execute_result",
          "data": {
            "text/plain": [
              "count    648.000000\n",
              "mean      61.597222\n",
              "std       22.024781\n",
              "min        5.000000\n",
              "25%       48.000000\n",
              "50%       67.000000\n",
              "75%       78.000000\n",
              "max      100.000000\n",
              "Name: Acceptance Rate, dtype: float64"
            ]
          },
          "metadata": {
            "tags": []
          },
          "execution_count": 36
        }
      ]
    },
    {
      "cell_type": "markdown",
      "metadata": {
        "id": "Rp3EgNYHvwMX"
      },
      "source": [
        "We will now create our variable dataframes seperating public and private institutions. Starting with public:"
      ]
    },
    {
      "cell_type": "code",
      "metadata": {
        "id": "tF8tSxV0tflu"
      },
      "source": [
        "public = hyp_3.iloc[(hyp_1['Public/Private'] == 'Public').values] # separating public institutions"
      ],
      "execution_count": null,
      "outputs": []
    },
    {
      "cell_type": "markdown",
      "metadata": {
        "id": "JUQCqIMmtP4k"
      },
      "source": [
        "The public dataframe has 250 rows and 4 columns. "
      ]
    },
    {
      "cell_type": "code",
      "metadata": {
        "id": "d74RLELhwH-p",
        "colab": {
          "base_uri": "https://localhost:8080/",
          "height": 34
        },
        "outputId": "640d275b-1974-498e-fdd6-1711f4b6b814"
      },
      "source": [
        "public.shape"
      ],
      "execution_count": null,
      "outputs": [
        {
          "output_type": "execute_result",
          "data": {
            "text/plain": [
              "(250, 4)"
            ]
          },
          "metadata": {
            "tags": []
          },
          "execution_count": 38
        }
      ]
    },
    {
      "cell_type": "code",
      "metadata": {
        "id": "mOSMCfHStf78",
        "colab": {
          "base_uri": "https://localhost:8080/",
          "height": 197
        },
        "outputId": "34c89d13-edc2-4a9e-df42-ab51e04affe3"
      },
      "source": [
        "public.head()"
      ],
      "execution_count": null,
      "outputs": [
        {
          "output_type": "execute_result",
          "data": {
            "text/html": [
              "<div>\n",
              "<style scoped>\n",
              "    .dataframe tbody tr th:only-of-type {\n",
              "        vertical-align: middle;\n",
              "    }\n",
              "\n",
              "    .dataframe tbody tr th {\n",
              "        vertical-align: top;\n",
              "    }\n",
              "\n",
              "    .dataframe thead th {\n",
              "        text-align: right;\n",
              "    }\n",
              "</style>\n",
              "<table border=\"1\" class=\"dataframe\">\n",
              "  <thead>\n",
              "    <tr style=\"text-align: right;\">\n",
              "      <th></th>\n",
              "      <th>Rank</th>\n",
              "      <th>Name</th>\n",
              "      <th>Public/Private</th>\n",
              "      <th>Acceptance Rate</th>\n",
              "    </tr>\n",
              "  </thead>\n",
              "  <tbody>\n",
              "    <tr>\n",
              "      <th>12</th>\n",
              "      <td>13.0</td>\n",
              "      <td>University of California, Berkeley</td>\n",
              "      <td>Public</td>\n",
              "      <td>17.0</td>\n",
              "    </tr>\n",
              "    <tr>\n",
              "      <th>19</th>\n",
              "      <td>20.0</td>\n",
              "      <td>University of Michigan, Ann Arbor</td>\n",
              "      <td>Public</td>\n",
              "      <td>27.0</td>\n",
              "    </tr>\n",
              "    <tr>\n",
              "      <th>23</th>\n",
              "      <td>24.0</td>\n",
              "      <td>United States Naval Academy</td>\n",
              "      <td>Public</td>\n",
              "      <td>8.0</td>\n",
              "    </tr>\n",
              "    <tr>\n",
              "      <th>31</th>\n",
              "      <td>32.0</td>\n",
              "      <td>United States Military Academy</td>\n",
              "      <td>Public</td>\n",
              "      <td>10.0</td>\n",
              "    </tr>\n",
              "    <tr>\n",
              "      <th>32</th>\n",
              "      <td>33.0</td>\n",
              "      <td>University of Virginia</td>\n",
              "      <td>Public</td>\n",
              "      <td>27.0</td>\n",
              "    </tr>\n",
              "  </tbody>\n",
              "</table>\n",
              "</div>"
            ],
            "text/plain": [
              "    Rank                                Name Public/Private  Acceptance Rate\n",
              "12  13.0  University of California, Berkeley         Public             17.0\n",
              "19  20.0   University of Michigan, Ann Arbor         Public             27.0\n",
              "23  24.0         United States Naval Academy         Public              8.0\n",
              "31  32.0      United States Military Academy         Public             10.0\n",
              "32  33.0              University of Virginia         Public             27.0"
            ]
          },
          "metadata": {
            "tags": []
          },
          "execution_count": 39
        }
      ]
    },
    {
      "cell_type": "markdown",
      "metadata": {
        "id": "NSXj3BSMtVNX"
      },
      "source": [
        "Below we will plot the Acceptance Rates on a histogram to investigate their distribution. "
      ]
    },
    {
      "cell_type": "code",
      "metadata": {
        "id": "as1XWzBjxEe5",
        "colab": {
          "base_uri": "https://localhost:8080/",
          "height": 284
        },
        "outputId": "6615ab4f-70e6-401b-8b6e-fc86768511d1"
      },
      "source": [
        "ax = sns.distplot(public['Acceptance Rate']) #normal distribution confirmed"
      ],
      "execution_count": null,
      "outputs": [
        {
          "output_type": "display_data",
          "data": {
            "image/png": "[encoded data removed]",
            "text/plain": [
              "<Figure size 432x288 with 1 Axes>"
            ]
          },
          "metadata": {
            "tags": []
          }
        }
      ]
    },
    {
      "cell_type": "markdown",
      "metadata": {
        "id": "hn-C463QwPlm"
      },
      "source": [
        "Now to create a private institution dataframe. "
      ]
    },
    {
      "cell_type": "code",
      "metadata": {
        "id": "WTL2p8STwPGV"
      },
      "source": [
        "private = hyp_3.iloc[(hyp_1['Public/Private'] == 'Private').values] # separating private institutions"
      ],
      "execution_count": null,
      "outputs": []
    },
    {
      "cell_type": "markdown",
      "metadata": {
        "id": "SVhZmCcwtgix"
      },
      "source": [
        "Our private dataframe has 400 rows and 4 columns. "
      ]
    },
    {
      "cell_type": "code",
      "metadata": {
        "id": "8y9irdgxtgR2",
        "colab": {
          "base_uri": "https://localhost:8080/",
          "height": 34
        },
        "outputId": "596ed3f2-f033-45f9-ba4f-a3372a6bd1c8"
      },
      "source": [
        "private.shape"
      ],
      "execution_count": null,
      "outputs": [
        {
          "output_type": "execute_result",
          "data": {
            "text/plain": [
              "(400, 4)"
            ]
          },
          "metadata": {
            "tags": []
          },
          "execution_count": 42
        }
      ]
    },
    {
      "cell_type": "code",
      "metadata": {
        "id": "OH82ruixwfnO",
        "colab": {
          "base_uri": "https://localhost:8080/",
          "height": 197
        },
        "outputId": "f07e1711-3f71-42c3-833e-1da53ba514de"
      },
      "source": [
        "private.head()"
      ],
      "execution_count": null,
      "outputs": [
        {
          "output_type": "execute_result",
          "data": {
            "text/html": [
              "<div>\n",
              "<style scoped>\n",
              "    .dataframe tbody tr th:only-of-type {\n",
              "        vertical-align: middle;\n",
              "    }\n",
              "\n",
              "    .dataframe tbody tr th {\n",
              "        vertical-align: top;\n",
              "    }\n",
              "\n",
              "    .dataframe thead th {\n",
              "        text-align: right;\n",
              "    }\n",
              "</style>\n",
              "<table border=\"1\" class=\"dataframe\">\n",
              "  <thead>\n",
              "    <tr style=\"text-align: right;\">\n",
              "      <th></th>\n",
              "      <th>Rank</th>\n",
              "      <th>Name</th>\n",
              "      <th>Public/Private</th>\n",
              "      <th>Acceptance Rate</th>\n",
              "    </tr>\n",
              "  </thead>\n",
              "  <tbody>\n",
              "    <tr>\n",
              "      <th>0</th>\n",
              "      <td>1.0</td>\n",
              "      <td>Harvard University</td>\n",
              "      <td>Private</td>\n",
              "      <td>5.0</td>\n",
              "    </tr>\n",
              "    <tr>\n",
              "      <th>1</th>\n",
              "      <td>2.0</td>\n",
              "      <td>Stanford University</td>\n",
              "      <td>Private</td>\n",
              "      <td>5.0</td>\n",
              "    </tr>\n",
              "    <tr>\n",
              "      <th>2</th>\n",
              "      <td>3.0</td>\n",
              "      <td>Yale University</td>\n",
              "      <td>Private</td>\n",
              "      <td>7.0</td>\n",
              "    </tr>\n",
              "    <tr>\n",
              "      <th>3</th>\n",
              "      <td>4.0</td>\n",
              "      <td>Massachusetts Institute of Technology</td>\n",
              "      <td>Private</td>\n",
              "      <td>7.0</td>\n",
              "    </tr>\n",
              "    <tr>\n",
              "      <th>4</th>\n",
              "      <td>5.0</td>\n",
              "      <td>Princeton University</td>\n",
              "      <td>Private</td>\n",
              "      <td>6.0</td>\n",
              "    </tr>\n",
              "  </tbody>\n",
              "</table>\n",
              "</div>"
            ],
            "text/plain": [
              "   Rank                                   Name Public/Private  Acceptance Rate\n",
              "0   1.0                     Harvard University        Private              5.0\n",
              "1   2.0                    Stanford University        Private              5.0\n",
              "2   3.0                        Yale University        Private              7.0\n",
              "3   4.0  Massachusetts Institute of Technology        Private              7.0\n",
              "4   5.0                   Princeton University        Private              6.0"
            ]
          },
          "metadata": {
            "tags": []
          },
          "execution_count": 43
        }
      ]
    },
    {
      "cell_type": "markdown",
      "metadata": {
        "id": "BRAqABz8tl0d"
      },
      "source": [
        "Again we will plot the Acceptance Rates on a histogram to investigate their distribution. It is notable that there is a slight skew toward the left compared to the public dataframe histogram. "
      ]
    },
    {
      "cell_type": "code",
      "metadata": {
        "id": "3UdDc06PxAG3",
        "colab": {
          "base_uri": "https://localhost:8080/",
          "height": 284
        },
        "outputId": "448fb721-ab2d-4bbc-b27d-15189d3826b4"
      },
      "source": [
        "ax = sns.distplot(private['Acceptance Rate']) #normal distribution confirmed"
      ],
      "execution_count": null,
      "outputs": [
        {
          "output_type": "display_data",
          "data": {
            "image/png": "[encoded data removed]",
            "text/plain": [
              "<Figure size 432x288 with 1 Axes>"
            ]
          },
          "metadata": {
            "tags": []
          }
        }
      ]
    },
    {
      "cell_type": "markdown",
      "metadata": {
        "id": "h_JvS6c_wmga"
      },
      "source": [
        "Now we will determine the average Acceptance Rate for Public Institutions. Our focus here is the mean which is 67.5.  "
      ]
    },
    {
      "cell_type": "code",
      "metadata": {
        "id": "Th3yqrPgxJ-0",
        "colab": {
          "base_uri": "https://localhost:8080/",
          "height": 176
        },
        "outputId": "95b0d447-bb77-45d8-c8b7-bd9f2bb092fc"
      },
      "source": [
        "public['Acceptance Rate'].describe()"
      ],
      "execution_count": null,
      "outputs": [
        {
          "output_type": "execute_result",
          "data": {
            "text/plain": [
              "count    248.000000\n",
              "mean      67.467742\n",
              "std       19.204603\n",
              "min        8.000000\n",
              "25%       57.000000\n",
              "50%       72.000000\n",
              "75%       82.000000\n",
              "max      100.000000\n",
              "Name: Acceptance Rate, dtype: float64"
            ]
          },
          "metadata": {
            "tags": []
          },
          "execution_count": 45
        }
      ]
    },
    {
      "cell_type": "markdown",
      "metadata": {
        "id": "KvmE2tgZxpW4"
      },
      "source": [
        "And last to determine the average Acceptance Rate for Private institutions. Our focus here is the mean which is 58.0. "
      ]
    },
    {
      "cell_type": "code",
      "metadata": {
        "id": "PEpOFZQBxKUD",
        "colab": {
          "base_uri": "https://localhost:8080/",
          "height": 176
        },
        "outputId": "dd051af2-6449-4441-94df-142a3d0f3748"
      },
      "source": [
        "private['Acceptance Rate'].describe()"
      ],
      "execution_count": null,
      "outputs": [
        {
          "output_type": "execute_result",
          "data": {
            "text/plain": [
              "count    400.000000\n",
              "mean      57.957500\n",
              "std       22.881972\n",
              "min        5.000000\n",
              "25%       43.000000\n",
              "50%       64.000000\n",
              "75%       74.000000\n",
              "max       97.000000\n",
              "Name: Acceptance Rate, dtype: float64"
            ]
          },
          "metadata": {
            "tags": []
          },
          "execution_count": 46
        }
      ]
    },
    {
      "cell_type": "markdown",
      "metadata": {
        "id": "cBcunkBa7Qqa"
      },
      "source": [
        "Now we will run a T-test to confirm the reliability of the data in the public and private dataframes. Our P-value result shows strong evidence to reject the null that private institutions have a higher acceptance rate. "
      ]
    },
    {
      "cell_type": "code",
      "metadata": {
        "id": "YN1fvFn07Y7p",
        "colab": {
          "base_uri": "https://localhost:8080/",
          "height": 34
        },
        "outputId": "16a7a304-d8d2-4a4b-c1ac-d6d27428d077"
      },
      "source": [
        "stats.ttest_ind(public['Acceptance Rate'], private['Acceptance Rate'], nan_policy='omit')"
      ],
      "execution_count": null,
      "outputs": [
        {
          "output_type": "execute_result",
          "data": {
            "text/plain": [
              "Ttest_indResult(statistic=5.460214771009835, pvalue=6.789214461369456e-08)"
            ]
          },
          "metadata": {
            "tags": []
          },
          "execution_count": 47
        }
      ]
    },
    {
      "cell_type": "markdown",
      "metadata": {
        "id": "9nugtYRiAMRF"
      },
      "source": [
        "Next we will use these results to calculate the confidence interval between the public and private dataframes."
      ]
    },
    {
      "cell_type": "code",
      "metadata": {
        "id": "GULeerTpAUU4"
      },
      "source": [
        "# Calculate the sample size, mean and variance of each sample...\n",
        "# We will need this information to calculate standard errors\n",
        "\n",
        "sample_1_n = public.shape[0]\n",
        "sample_2_n = private.shape[0]\n",
        "sample_1_mean = public['Acceptance Rate'].mean()\n",
        "sample_2_mean = private['Acceptance Rate'].mean()\n",
        "sample_1_var = public['Acceptance Rate'].var()\n",
        "sample_2_var = private['Acceptance Rate'].var()"
      ],
      "execution_count": null,
      "outputs": []
    },
    {
      "cell_type": "code",
      "metadata": {
        "id": "Zfth-7TVBKCb",
        "colab": {
          "base_uri": "https://localhost:8080/",
          "height": 34
        },
        "outputId": "36bdf610-471a-4a0c-ce83-b5c4b557a62b"
      },
      "source": [
        "std_err_difference = math.sqrt((sample_1_var/sample_1_n)+(sample_2_var/sample_2_n))\n",
        "\n",
        "mean_difference = sample_2_mean - sample_1_mean\n",
        "\n",
        "margin_of_error = 1.96 * std_err_difference\n",
        "ci_lower = mean_difference - margin_of_error\n",
        "ci_upper = mean_difference + margin_of_error\n",
        "\n",
        "print(\"The difference in means at the 95% confidence interval is between \"+str(ci_lower)+\" and \"+str(ci_upper)+\".\")"
      ],
      "execution_count": null,
      "outputs": [
        {
          "output_type": "stream",
          "text": [
            "The difference in means at the 95% confidence interval is between -12.780699553164439 and -6.239784317803298.\n"
          ],
          "name": "stdout"
        }
      ]
    },
    {
      "cell_type": "markdown",
      "metadata": {
        "id": "c0gc11g7vqRJ"
      },
      "source": [
        "The results of our confidence interval test provide verification of the accuracy of our findings regarding rejecting our null hypothesis. "
      ]
    },
    {
      "cell_type": "markdown",
      "metadata": {
        "id": "J4vcKELvyFZK"
      },
      "source": [
        "**As we can see the null is rejected that private institutions have a higher acceptance rate. We can see there is a statistically significant difference in the higher acceptance rate shown by public institutions.** \n",
        "\n",
        "Public Acceptance Rate : 67.5\n",
        "\n",
        "Private Acceptance Rate: 58.0\n",
        "\n",
        "**From these results we can gather that students look for a higher Acceptance Rate should gear their college search towards public institutions. It will provide for a lower barrier to entry for students with a worry about being accepted.** "
      ]
    },
    {
      "cell_type": "code",
      "metadata": {
        "id": "QGLEaLBhxMPb",
        "colab": {
          "base_uri": "https://localhost:8080/",
          "height": 284
        },
        "outputId": "566bb968-7aab-4f9a-a7a4-8955739ee751"
      },
      "source": [
        "ax = sns.barplot(x=\"Public/Private\", y=\"Acceptance Rate\", hue=\"Public/Private\", data=df)"
      ],
      "execution_count": null,
      "outputs": [
        {
          "output_type": "display_data",
          "data": {
            "image/png": "[encoded data removed]",
            "text/plain": [
              "<Figure size 432x288 with 1 Axes>"
            ]
          },
          "metadata": {
            "tags": []
          }
        }
      ]
    },
    {
      "cell_type": "markdown",
      "metadata": {
        "id": "eWQD2JsVwOsx"
      },
      "source": [
        "Above is a bar-plot visualizing the mean Acceptance Rate of both public and private institutions. "
      ]
    },
    {
      "cell_type": "markdown",
      "metadata": {
        "id": "G7FHfZXPy7e1"
      },
      "source": [
        "# **Hypothesis 4**\n",
        "\n",
        "**Null: Do public institutions have a higher Average Grant Aid than private institutions?**"
      ]
    },
    {
      "cell_type": "markdown",
      "metadata": {
        "id": "_-_g8nJaxi1n"
      },
      "source": [
        "We will begin by creating a bucket dataframe for the columns needing to be analyzed. We will then separate those into public and private dataframes for the respective category of public and private results. \n",
        "\n",
        "Below will be a general analysis of the entire combined dataframe:"
      ]
    },
    {
      "cell_type": "code",
      "metadata": {
        "id": "4Hhl-dlVzdgI"
      },
      "source": [
        "hyp_4 = df[['Rank', 'Name', 'Public/Private', 'Average Grant Aid']] # placing needed variables into bucket DF\n"
      ],
      "execution_count": null,
      "outputs": []
    },
    {
      "cell_type": "markdown",
      "metadata": {
        "id": "tEEGRXQByJTM"
      },
      "source": [
        "This dataframe has 650 rows and 4 columns. "
      ]
    },
    {
      "cell_type": "code",
      "metadata": {
        "id": "s0MC9nrGzd3E",
        "colab": {
          "base_uri": "https://localhost:8080/",
          "height": 34
        },
        "outputId": "a45b6514-5c97-4db6-f27f-908e0e8c5190"
      },
      "source": [
        "hyp_4.shape"
      ],
      "execution_count": null,
      "outputs": [
        {
          "output_type": "execute_result",
          "data": {
            "text/plain": [
              "(650, 4)"
            ]
          },
          "metadata": {
            "tags": []
          },
          "execution_count": 52
        }
      ]
    },
    {
      "cell_type": "code",
      "metadata": {
        "id": "addqYJs_zeNL",
        "colab": {
          "base_uri": "https://localhost:8080/",
          "height": 197
        },
        "outputId": "019b89e1-f9c1-46e7-d2ca-50dea67ad6d3"
      },
      "source": [
        "hyp_4.head()"
      ],
      "execution_count": null,
      "outputs": [
        {
          "output_type": "execute_result",
          "data": {
            "text/html": [
              "<div>\n",
              "<style scoped>\n",
              "    .dataframe tbody tr th:only-of-type {\n",
              "        vertical-align: middle;\n",
              "    }\n",
              "\n",
              "    .dataframe tbody tr th {\n",
              "        vertical-align: top;\n",
              "    }\n",
              "\n",
              "    .dataframe thead th {\n",
              "        text-align: right;\n",
              "    }\n",
              "</style>\n",
              "<table border=\"1\" class=\"dataframe\">\n",
              "  <thead>\n",
              "    <tr style=\"text-align: right;\">\n",
              "      <th></th>\n",
              "      <th>Rank</th>\n",
              "      <th>Name</th>\n",
              "      <th>Public/Private</th>\n",
              "      <th>Average Grant Aid</th>\n",
              "    </tr>\n",
              "  </thead>\n",
              "  <tbody>\n",
              "    <tr>\n",
              "      <th>0</th>\n",
              "      <td>1.0</td>\n",
              "      <td>Harvard University</td>\n",
              "      <td>Private</td>\n",
              "      <td>49870.0</td>\n",
              "    </tr>\n",
              "    <tr>\n",
              "      <th>1</th>\n",
              "      <td>2.0</td>\n",
              "      <td>Stanford University</td>\n",
              "      <td>Private</td>\n",
              "      <td>50134.0</td>\n",
              "    </tr>\n",
              "    <tr>\n",
              "      <th>2</th>\n",
              "      <td>3.0</td>\n",
              "      <td>Yale University</td>\n",
              "      <td>Private</td>\n",
              "      <td>50897.0</td>\n",
              "    </tr>\n",
              "    <tr>\n",
              "      <th>3</th>\n",
              "      <td>4.0</td>\n",
              "      <td>Massachusetts Institute of Technology</td>\n",
              "      <td>Private</td>\n",
              "      <td>43248.0</td>\n",
              "    </tr>\n",
              "    <tr>\n",
              "      <th>4</th>\n",
              "      <td>5.0</td>\n",
              "      <td>Princeton University</td>\n",
              "      <td>Private</td>\n",
              "      <td>48088.0</td>\n",
              "    </tr>\n",
              "  </tbody>\n",
              "</table>\n",
              "</div>"
            ],
            "text/plain": [
              "   Rank  ... Average Grant Aid\n",
              "0   1.0  ...           49870.0\n",
              "1   2.0  ...           50134.0\n",
              "2   3.0  ...           50897.0\n",
              "3   4.0  ...           43248.0\n",
              "4   5.0  ...           48088.0\n",
              "\n",
              "[5 rows x 4 columns]"
            ]
          },
          "metadata": {
            "tags": []
          },
          "execution_count": 53
        }
      ]
    },
    {
      "cell_type": "markdown",
      "metadata": {
        "id": "7ItYRI8Tzw8p"
      },
      "source": [
        "Below is a brief analysis of the entire dataframe including both public and private institutions. "
      ]
    },
    {
      "cell_type": "code",
      "metadata": {
        "id": "jywwn2kbz3UJ",
        "colab": {
          "base_uri": "https://localhost:8080/",
          "height": 176
        },
        "outputId": "df9e774e-1c20-495f-e44a-8a8d4e44ee31"
      },
      "source": [
        "hyp_4['Average Grant Aid'].describe()"
      ],
      "execution_count": null,
      "outputs": [
        {
          "output_type": "execute_result",
          "data": {
            "text/plain": [
              "count      646.000000\n",
              "mean     20031.208978\n",
              "std      11175.869976\n",
              "min       2975.000000\n",
              "25%       9288.250000\n",
              "50%      19605.000000\n",
              "75%      27474.500000\n",
              "max      50897.000000\n",
              "Name: Average Grant Aid, dtype: float64"
            ]
          },
          "metadata": {
            "tags": []
          },
          "execution_count": 54
        }
      ]
    },
    {
      "cell_type": "markdown",
      "metadata": {
        "id": "_f_K-CnP0HKW"
      },
      "source": [
        "Now we will seperate the private and public institutions into their own variable dataframes. Starting with Private:"
      ]
    },
    {
      "cell_type": "code",
      "metadata": {
        "id": "QjhcplFo0QEr"
      },
      "source": [
        "private = hyp_4.iloc[(hyp_4['Public/Private'] == 'Private').values] # separating private institutions"
      ],
      "execution_count": null,
      "outputs": []
    },
    {
      "cell_type": "markdown",
      "metadata": {
        "id": "yAIrwoAxyjyR"
      },
      "source": [
        "This private dataframe has 400 rows and 4 columns. "
      ]
    },
    {
      "cell_type": "code",
      "metadata": {
        "id": "btHcQmGk0Qb3",
        "colab": {
          "base_uri": "https://localhost:8080/",
          "height": 34
        },
        "outputId": "11370289-ca8c-4b78-8459-5a9179b763a9"
      },
      "source": [
        "private.shape"
      ],
      "execution_count": null,
      "outputs": [
        {
          "output_type": "execute_result",
          "data": {
            "text/plain": [
              "(400, 4)"
            ]
          },
          "metadata": {
            "tags": []
          },
          "execution_count": 56
        }
      ]
    },
    {
      "cell_type": "code",
      "metadata": {
        "id": "DEiHR0w90QwO",
        "colab": {
          "base_uri": "https://localhost:8080/",
          "height": 197
        },
        "outputId": "14a66df7-3688-4e46-f290-8d39ffce9971"
      },
      "source": [
        "private.head()"
      ],
      "execution_count": null,
      "outputs": [
        {
          "output_type": "execute_result",
          "data": {
            "text/html": [
              "<div>\n",
              "<style scoped>\n",
              "    .dataframe tbody tr th:only-of-type {\n",
              "        vertical-align: middle;\n",
              "    }\n",
              "\n",
              "    .dataframe tbody tr th {\n",
              "        vertical-align: top;\n",
              "    }\n",
              "\n",
              "    .dataframe thead th {\n",
              "        text-align: right;\n",
              "    }\n",
              "</style>\n",
              "<table border=\"1\" class=\"dataframe\">\n",
              "  <thead>\n",
              "    <tr style=\"text-align: right;\">\n",
              "      <th></th>\n",
              "      <th>Rank</th>\n",
              "      <th>Name</th>\n",
              "      <th>Public/Private</th>\n",
              "      <th>Average Grant Aid</th>\n",
              "    </tr>\n",
              "  </thead>\n",
              "  <tbody>\n",
              "    <tr>\n",
              "      <th>0</th>\n",
              "      <td>1.0</td>\n",
              "      <td>Harvard University</td>\n",
              "      <td>Private</td>\n",
              "      <td>49870.0</td>\n",
              "    </tr>\n",
              "    <tr>\n",
              "      <th>1</th>\n",
              "      <td>2.0</td>\n",
              "      <td>Stanford University</td>\n",
              "      <td>Private</td>\n",
              "      <td>50134.0</td>\n",
              "    </tr>\n",
              "    <tr>\n",
              "      <th>2</th>\n",
              "      <td>3.0</td>\n",
              "      <td>Yale University</td>\n",
              "      <td>Private</td>\n",
              "      <td>50897.0</td>\n",
              "    </tr>\n",
              "    <tr>\n",
              "      <th>3</th>\n",
              "      <td>4.0</td>\n",
              "      <td>Massachusetts Institute of Technology</td>\n",
              "      <td>Private</td>\n",
              "      <td>43248.0</td>\n",
              "    </tr>\n",
              "    <tr>\n",
              "      <th>4</th>\n",
              "      <td>5.0</td>\n",
              "      <td>Princeton University</td>\n",
              "      <td>Private</td>\n",
              "      <td>48088.0</td>\n",
              "    </tr>\n",
              "  </tbody>\n",
              "</table>\n",
              "</div>"
            ],
            "text/plain": [
              "   Rank  ... Average Grant Aid\n",
              "0   1.0  ...           49870.0\n",
              "1   2.0  ...           50134.0\n",
              "2   3.0  ...           50897.0\n",
              "3   4.0  ...           43248.0\n",
              "4   5.0  ...           48088.0\n",
              "\n",
              "[5 rows x 4 columns]"
            ]
          },
          "metadata": {
            "tags": []
          },
          "execution_count": 57
        }
      ]
    },
    {
      "cell_type": "markdown",
      "metadata": {
        "id": "Z2bF2tBIypVV"
      },
      "source": [
        "Below we will plot the data points for Average Grant Aid in a histogram to investigate their distribution. "
      ]
    },
    {
      "cell_type": "code",
      "metadata": {
        "id": "YJFgXxJg0yp9",
        "colab": {
          "base_uri": "https://localhost:8080/",
          "height": 295
        },
        "outputId": "6522f793-7f38-4f42-9f13-1673085477df"
      },
      "source": [
        "ax = sns.distplot(private['Average Grant Aid']) #normal distribution confirmed"
      ],
      "execution_count": null,
      "outputs": [
        {
          "output_type": "display_data",
          "data": {
            "image/png": "[encoded data removed]",
            "text/plain": [
              "<Figure size 432x288 with 1 Axes>"
            ]
          },
          "metadata": {
            "tags": []
          }
        }
      ]
    },
    {
      "cell_type": "markdown",
      "metadata": {
        "id": "Ox7tiV7B03Wz"
      },
      "source": [
        "Now we will separate public institutions. \n",
        "\n",
        "\n"
      ]
    },
    {
      "cell_type": "code",
      "metadata": {
        "id": "VYlXUzxR08D3"
      },
      "source": [
        "public = hyp_4.iloc[(hyp_4['Public/Private'] == 'Public').values] # separating private institutions"
      ],
      "execution_count": null,
      "outputs": []
    },
    {
      "cell_type": "markdown",
      "metadata": {
        "id": "UX-_2aUsy2cV"
      },
      "source": [
        "This dataframe contains 250 rows and 4 columns. "
      ]
    },
    {
      "cell_type": "code",
      "metadata": {
        "id": "J4QPw3L808c6",
        "colab": {
          "base_uri": "https://localhost:8080/",
          "height": 34
        },
        "outputId": "c90db19c-a748-4dad-af1d-2490ffbfb42c"
      },
      "source": [
        "public.shape"
      ],
      "execution_count": null,
      "outputs": [
        {
          "output_type": "execute_result",
          "data": {
            "text/plain": [
              "(250, 4)"
            ]
          },
          "metadata": {
            "tags": []
          },
          "execution_count": 60
        }
      ]
    },
    {
      "cell_type": "markdown",
      "metadata": {
        "id": "G-Q1qpNfzUDv"
      },
      "source": [
        "*Military academies do not take any Grant Aid and are replaced with NaN which effectively counts as 0 for the purposes of mean calculations. They are kept in the calculation of means as a row,  as it is technically the true data, and I do not feel comfortable adjusting it in that manner. They are omitted from the T-test as well as histograms and bar-plots.* "
      ]
    },
    {
      "cell_type": "code",
      "metadata": {
        "id": "fnI7w1S208zo",
        "colab": {
          "base_uri": "https://localhost:8080/",
          "height": 197
        },
        "outputId": "853f03dd-6fdc-42db-ffe1-242a6b743fdf"
      },
      "source": [
        "public.head()  "
      ],
      "execution_count": null,
      "outputs": [
        {
          "output_type": "execute_result",
          "data": {
            "text/html": [
              "<div>\n",
              "<style scoped>\n",
              "    .dataframe tbody tr th:only-of-type {\n",
              "        vertical-align: middle;\n",
              "    }\n",
              "\n",
              "    .dataframe tbody tr th {\n",
              "        vertical-align: top;\n",
              "    }\n",
              "\n",
              "    .dataframe thead th {\n",
              "        text-align: right;\n",
              "    }\n",
              "</style>\n",
              "<table border=\"1\" class=\"dataframe\">\n",
              "  <thead>\n",
              "    <tr style=\"text-align: right;\">\n",
              "      <th></th>\n",
              "      <th>Rank</th>\n",
              "      <th>Name</th>\n",
              "      <th>Public/Private</th>\n",
              "      <th>Average Grant Aid</th>\n",
              "    </tr>\n",
              "  </thead>\n",
              "  <tbody>\n",
              "    <tr>\n",
              "      <th>12</th>\n",
              "      <td>13.0</td>\n",
              "      <td>University of California, Berkeley</td>\n",
              "      <td>Public</td>\n",
              "      <td>18319.0</td>\n",
              "    </tr>\n",
              "    <tr>\n",
              "      <th>19</th>\n",
              "      <td>20.0</td>\n",
              "      <td>University of Michigan, Ann Arbor</td>\n",
              "      <td>Public</td>\n",
              "      <td>18751.0</td>\n",
              "    </tr>\n",
              "    <tr>\n",
              "      <th>23</th>\n",
              "      <td>24.0</td>\n",
              "      <td>United States Naval Academy</td>\n",
              "      <td>Public</td>\n",
              "      <td>NaN</td>\n",
              "    </tr>\n",
              "    <tr>\n",
              "      <th>31</th>\n",
              "      <td>32.0</td>\n",
              "      <td>United States Military Academy</td>\n",
              "      <td>Public</td>\n",
              "      <td>NaN</td>\n",
              "    </tr>\n",
              "    <tr>\n",
              "      <th>32</th>\n",
              "      <td>33.0</td>\n",
              "      <td>University of Virginia</td>\n",
              "      <td>Public</td>\n",
              "      <td>21171.0</td>\n",
              "    </tr>\n",
              "  </tbody>\n",
              "</table>\n",
              "</div>"
            ],
            "text/plain": [
              "    Rank                                Name Public/Private  Average Grant Aid\n",
              "12  13.0  University of California, Berkeley         Public            18319.0\n",
              "19  20.0   University of Michigan, Ann Arbor         Public            18751.0\n",
              "23  24.0         United States Naval Academy         Public                NaN\n",
              "31  32.0      United States Military Academy         Public                NaN\n",
              "32  33.0              University of Virginia         Public            21171.0"
            ]
          },
          "metadata": {
            "tags": []
          },
          "execution_count": 61
        }
      ]
    },
    {
      "cell_type": "markdown",
      "metadata": {
        "id": "x_4dfVrtzmtL"
      },
      "source": [
        "Below we will plot the datapoints of Average Grant Aid to investigate their distribution. "
      ]
    },
    {
      "cell_type": "code",
      "metadata": {
        "id": "rrSqDybY09M5",
        "colab": {
          "base_uri": "https://localhost:8080/",
          "height": 284
        },
        "outputId": "d18e8250-21ac-4157-c0da-109bd7f874ee"
      },
      "source": [
        "ax = sns.distplot(public['Average Grant Aid']) #normal distribution confirmed"
      ],
      "execution_count": null,
      "outputs": [
        {
          "output_type": "display_data",
          "data": {
            "image/png": "[encoded data removed]",
            "text/plain": [
              "<Figure size 432x288 with 1 Axes>"
            ]
          },
          "metadata": {
            "tags": []
          }
        }
      ]
    },
    {
      "cell_type": "markdown",
      "metadata": {
        "id": "4nbhpfgh1lZG"
      },
      "source": [
        "Now we will determine the averages of public and private Grant Aid for the entire group.\n",
        "\n",
        "Our focus will be the mean which is $26,796.23 for private institutions. \n",
        "Beginning with private:"
      ]
    },
    {
      "cell_type": "code",
      "metadata": {
        "id": "KJJTKPIk1xhc",
        "colab": {
          "base_uri": "https://localhost:8080/",
          "height": 176
        },
        "outputId": "ea749309-36de-4e4c-f6fb-9db3f96dcac1"
      },
      "source": [
        "private['Average Grant Aid'].describe()"
      ],
      "execution_count": null,
      "outputs": [
        {
          "output_type": "execute_result",
          "data": {
            "text/plain": [
              "count      400.000000\n",
              "mean     26796.227500\n",
              "std       8667.211173\n",
              "min       4070.000000\n",
              "25%      20675.750000\n",
              "50%      26152.000000\n",
              "75%      31023.500000\n",
              "max      50897.000000\n",
              "Name: Average Grant Aid, dtype: float64"
            ]
          },
          "metadata": {
            "tags": []
          },
          "execution_count": 63
        }
      ]
    },
    {
      "cell_type": "markdown",
      "metadata": {
        "id": "CvWojjSb15T_"
      },
      "source": [
        "And proceeding on to public where the mean is $9,031.18 . "
      ]
    },
    {
      "cell_type": "code",
      "metadata": {
        "id": "jnlxtqCa19Z7",
        "colab": {
          "base_uri": "https://localhost:8080/",
          "height": 176
        },
        "outputId": "f6a1039d-5f65-4a76-d711-d2b8c1fa6509"
      },
      "source": [
        "public['Average Grant Aid'].describe()"
      ],
      "execution_count": null,
      "outputs": [
        {
          "output_type": "execute_result",
          "data": {
            "text/plain": [
              "count      246.000000\n",
              "mean      9031.178862\n",
              "std       3204.010548\n",
              "min       2975.000000\n",
              "25%       7057.750000\n",
              "50%       8611.000000\n",
              "75%       9920.500000\n",
              "max      21249.000000\n",
              "Name: Average Grant Aid, dtype: float64"
            ]
          },
          "metadata": {
            "tags": []
          },
          "execution_count": 64
        }
      ]
    },
    {
      "cell_type": "markdown",
      "metadata": {
        "id": "5pAa0oZz7yuX"
      },
      "source": [
        "Now we will run a T-test to determine the reliability of our results above in the public and private dataframes. \n",
        "\n",
        "(Military institutions are omitted from this calculation)\n",
        "\n",
        "As we can see from our negative P-value we have strong evidence to reject the null hypothesis. \n"
      ]
    },
    {
      "cell_type": "code",
      "metadata": {
        "id": "O4UskB-u76Zu",
        "colab": {
          "base_uri": "https://localhost:8080/",
          "height": 34
        },
        "outputId": "54039769-5d39-4491-a2a2-005b8d2f0789"
      },
      "source": [
        "stats.ttest_ind(public['Average Grant Aid'], private['Average Grant Aid'], nan_policy='omit')"
      ],
      "execution_count": null,
      "outputs": [
        {
          "output_type": "execute_result",
          "data": {
            "text/plain": [
              "Ttest_indResult(statistic=-30.8693763081762, pvalue=4.103942730865631e-129)"
            ]
          },
          "metadata": {
            "tags": []
          },
          "execution_count": 65
        }
      ]
    },
    {
      "cell_type": "markdown",
      "metadata": {
        "id": "ef6n7K86AkFW"
      },
      "source": [
        "Now we will use these results to calculate the confidence interval between the public and private dataframes."
      ]
    },
    {
      "cell_type": "code",
      "metadata": {
        "id": "4nmilUb5Aqwk"
      },
      "source": [
        "# Calculate the sample size, mean and variance of each sample...\n",
        "# We will need this information to calculate standard errors\n",
        "\n",
        "sample_1_n = public.shape[0]\n",
        "sample_2_n = private.shape[0]\n",
        "sample_1_mean = public['Average Grant Aid'].mean()\n",
        "sample_2_mean = private['Average Grant Aid'].mean()\n",
        "sample_1_var = public['Average Grant Aid'].var()\n",
        "sample_2_var = private['Average Grant Aid'].var()"
      ],
      "execution_count": null,
      "outputs": []
    },
    {
      "cell_type": "code",
      "metadata": {
        "id": "x5VBRvmFAreg",
        "colab": {
          "base_uri": "https://localhost:8080/",
          "height": 34
        },
        "outputId": "1ae512d2-a667-4394-b5d6-71702c62120e"
      },
      "source": [
        "std_err_difference = math.sqrt((sample_1_var/sample_1_n)+(sample_2_var/sample_2_n))\n",
        "\n",
        "mean_difference = sample_2_mean - sample_1_mean\n",
        "\n",
        "margin_of_error = 1.96 * std_err_difference\n",
        "ci_lower = mean_difference - margin_of_error\n",
        "ci_upper = mean_difference + margin_of_error\n",
        "\n",
        "print(\"The difference in means at the 95% confidence interval is between \"+str(ci_lower)+\" and \"+str(ci_upper)+\".\")"
      ],
      "execution_count": null,
      "outputs": [
        {
          "output_type": "stream",
          "text": [
            "The difference in means at the 95% confidence interval is between 16827.389660841058 and 18702.707615581705.\n"
          ],
          "name": "stdout"
        }
      ]
    },
    {
      "cell_type": "markdown",
      "metadata": {
        "id": "eYENuS2z1L1Q"
      },
      "source": [
        "From this confidence interval result we can determine that there is a strong basis to reject the null hypothesis. "
      ]
    },
    {
      "cell_type": "markdown",
      "metadata": {
        "id": "yj_26u9w2Jg1"
      },
      "source": [
        "**As we can see from the above analysis, there is a statistically significant difference in the Average Grant Aid of public versus private institutions. We can reject our null that public institutions have a higher Average Grant Aid than private.** \n",
        "\n",
        "Public: $9,031.18\n",
        "\n",
        "Private: $26,796.23\n",
        "\n",
        "**Prospective students can use these findings in many ways , and it is a helpful statistic for them to have. Students may factor this into their financial calculations when determining which colleges to apply to.** \n",
        "\n",
        "\n",
        "Below is a bar-plot visualizing the mean Average Grant Aid of both public and private institutions. "
      ]
    },
    {
      "cell_type": "code",
      "metadata": {
        "id": "2W60wx7P3BJT",
        "colab": {
          "base_uri": "https://localhost:8080/",
          "height": 284
        },
        "outputId": "d06d78c4-ea33-4869-d5b0-64fe10481049"
      },
      "source": [
        "ax = sns.barplot(x=\"Public/Private\", y=\"Average Grant Aid\", hue=\"Public/Private\", data=df)"
      ],
      "execution_count": null,
      "outputs": [
        {
          "output_type": "display_data",
          "data": {
            "image/png": "[encoded data removed]",
            "text/plain": [
              "<Figure size 432x288 with 1 Axes>"
            ]
          },
          "metadata": {
            "tags": []
          }
        }
      ]
    },
    {
      "cell_type": "markdown",
      "metadata": {
        "id": "cu970A5b124S"
      },
      "source": [
        "# **Conclusions**\n",
        "\n",
        "**In this section we will make observations regarding the results of our individual hypotheses. These observations will be a synopsis of ways that the end user can use the results we found.** "
      ]
    },
    {
      "cell_type": "markdown",
      "metadata": {
        "id": "VNm6ncYl20Az"
      },
      "source": [
        "These results should prove to be quite valuable for our end user. To refresh, our end user is a student actively searching for a college to attend. These students will have a plethora of questions going into the process of choosing an institution, and I hope these results provide some insight to the analyzed metrics. \n",
        "\n",
        "Below we will provide a brief synopsis of each Hypothesis:\n",
        "\n",
        "**Hypothesis 1**\n",
        "\n",
        "For hypothesis 1 we can determine which category of institution would be best in terms of Total Annual Cost. This shows that the end user who is looking for a cheaper college cost should be gearing their search toward public institutions. This is notable, as many students are looking to lower their costs in terms of loans. I would go as far as to say this hypothesis will be seen as the most important factor in most students' choice of institution. \n",
        "\n",
        "**Hypothesis 2**\n",
        "\n",
        "For hypothesis 2 we can determine that the end user who is looking for a higher ranking college overall should be looking towards a private institution. Many students like to be a part of a prestigious institution , and this hypothesis will provide guidance for these students. It is an important factor that encompasses every metric shown in the dataset. Students could use these results as a baseline before investigating the other hypotheses. \n",
        "\n",
        "**Hypothesis 3**\n",
        "\n",
        "For hypothesis 3 we investigated average Acceptance Rates. The public institutions were shown to have an advantage when it came to this metric. Many students with lower grades and/or test scores would likely find this analysis useful when choosing an institution. This can provide ease of access when applying to an institution and give them a higher level of confidence when they do apply. Conversely, this metric shows that students looking for a prestigious institution could gear their search towards private institutions. \n",
        "\n",
        "**Hypothesis 4**\n",
        "\n",
        "For Hypothesis 4 we investigated Average Grant Aid per category. The end user may find this metric less important, but it is important information for them to have. Oftentimes grant aid is established based upon a student's individual financial status, but it is important to know how much is used by the average student. This analysis shows that a student looking to rely heavily upon grant aid may want to focus their search upon private institutions. Many students can benefit from grant aid as it is not required to be paid back at the end of their tenure. \n",
        "\n",
        "\n",
        "\n",
        "\n",
        "\n",
        "\n",
        "\n",
        "\n"
      ]
    },
    {
      "cell_type": "markdown",
      "metadata": {
        "id": "976AYpEp9MRs"
      },
      "source": [
        "I hope that this analysis can provide a bit of clarity when it comes to public versus private institutions. Students deserve the most accurate information available , and these results provide them with verifiable statistics to base their decisions upon. Choosing a college can be a daunting task that I hope is made easier by these results. \n",
        "\n",
        "Thank You \n",
        "\n",
        "Benjamin Stevens"
      ]
    }
  ]
}